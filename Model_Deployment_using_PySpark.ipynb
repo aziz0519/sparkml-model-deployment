{
  "nbformat": 4,
  "nbformat_minor": 0,
  "metadata": {
    "colab": {
      "provenance": [],
      "authorship_tag": "ABX9TyPbTR62XQsSForfR7E5YmTv"
    },
    "kernelspec": {
      "name": "python3",
      "display_name": "Python 3"
    },
    "language_info": {
      "name": "python"
    }
  },
  "cells": [
    {
      "cell_type": "code",
      "execution_count": null,
      "metadata": {
        "colab": {
          "base_uri": "https://localhost:8080/"
        },
        "id": "LXItD0u-w7T3",
        "outputId": "dc6878ba-aed0-456e-debf-6659691dff43"
      },
      "outputs": [
        {
          "output_type": "stream",
          "name": "stdout",
          "text": [
            "--2023-02-17 14:26:16--  https://raw.githubusercontent.com/Apress/applied-data-science-using-pyspark/main/Ch09/bank-full.csv\n",
            "Resolving raw.githubusercontent.com (raw.githubusercontent.com)... 185.199.111.133, 185.199.109.133, 185.199.110.133, ...\n",
            "Connecting to raw.githubusercontent.com (raw.githubusercontent.com)|185.199.111.133|:443... connected.\n",
            "HTTP request sent, awaiting response... 200 OK\n",
            "Length: 4610348 (4.4M) [text/plain]\n",
            "Saving to: ‘bank-full.csv’\n",
            "\n",
            "\rbank-full.csv         0%[                    ]       0  --.-KB/s               \rbank-full.csv       100%[===================>]   4.40M  --.-KB/s    in 0.01s   \n",
            "\n",
            "2023-02-17 14:26:16 (306 MB/s) - ‘bank-full.csv’ saved [4610348/4610348]\n",
            "\n"
          ]
        }
      ],
      "source": [
        "!wget https://raw.githubusercontent.com/Apress/applied-data-science-using-pyspark/main/Ch09/bank-full.csv"
      ]
    },
    {
      "cell_type": "code",
      "source": [
        "from pyspark.sql import SparkSession\n",
        "spark = SparkSession.builder.getOrCreate()"
      ],
      "metadata": {
        "id": "lcwnVUS7w8un"
      },
      "execution_count": null,
      "outputs": []
    },
    {
      "cell_type": "code",
      "source": [
        "df = spark.read.csv(\"bank-full.csv\", header=True, inferSchema=True, sep=';')\n",
        "df.show()"
      ],
      "metadata": {
        "colab": {
          "base_uri": "https://localhost:8080/"
        },
        "id": "p_AXreJsxC-4",
        "outputId": "1de96316-8fce-4fc0-c454-821bde47a3b6"
      },
      "execution_count": null,
      "outputs": [
        {
          "output_type": "stream",
          "name": "stdout",
          "text": [
            "+---+------------+--------+---------+-------+-------+-------+----+-------+---+-----+--------+--------+-----+--------+--------+---+\n",
            "|age|         job| marital|education|default|balance|housing|loan|contact|day|month|duration|campaign|pdays|previous|poutcome|  y|\n",
            "+---+------------+--------+---------+-------+-------+-------+----+-------+---+-----+--------+--------+-----+--------+--------+---+\n",
            "| 58|  management| married| tertiary|     no|   2143|    yes|  no|unknown|  5|  may|     261|       1|   -1|       0| unknown| no|\n",
            "| 44|  technician|  single|secondary|     no|     29|    yes|  no|unknown|  5|  may|     151|       1|   -1|       0| unknown| no|\n",
            "| 33|entrepreneur| married|secondary|     no|      2|    yes| yes|unknown|  5|  may|      76|       1|   -1|       0| unknown| no|\n",
            "| 47| blue-collar| married|  unknown|     no|   1506|    yes|  no|unknown|  5|  may|      92|       1|   -1|       0| unknown| no|\n",
            "| 33|     unknown|  single|  unknown|     no|      1|     no|  no|unknown|  5|  may|     198|       1|   -1|       0| unknown| no|\n",
            "| 35|  management| married| tertiary|     no|    231|    yes|  no|unknown|  5|  may|     139|       1|   -1|       0| unknown| no|\n",
            "| 28|  management|  single| tertiary|     no|    447|    yes| yes|unknown|  5|  may|     217|       1|   -1|       0| unknown| no|\n",
            "| 42|entrepreneur|divorced| tertiary|    yes|      2|    yes|  no|unknown|  5|  may|     380|       1|   -1|       0| unknown| no|\n",
            "| 58|     retired| married|  primary|     no|    121|    yes|  no|unknown|  5|  may|      50|       1|   -1|       0| unknown| no|\n",
            "| 43|  technician|  single|secondary|     no|    593|    yes|  no|unknown|  5|  may|      55|       1|   -1|       0| unknown| no|\n",
            "| 41|      admin.|divorced|secondary|     no|    270|    yes|  no|unknown|  5|  may|     222|       1|   -1|       0| unknown| no|\n",
            "| 29|      admin.|  single|secondary|     no|    390|    yes|  no|unknown|  5|  may|     137|       1|   -1|       0| unknown| no|\n",
            "| 53|  technician| married|secondary|     no|      6|    yes|  no|unknown|  5|  may|     517|       1|   -1|       0| unknown| no|\n",
            "| 58|  technician| married|  unknown|     no|     71|    yes|  no|unknown|  5|  may|      71|       1|   -1|       0| unknown| no|\n",
            "| 57|    services| married|secondary|     no|    162|    yes|  no|unknown|  5|  may|     174|       1|   -1|       0| unknown| no|\n",
            "| 51|     retired| married|  primary|     no|    229|    yes|  no|unknown|  5|  may|     353|       1|   -1|       0| unknown| no|\n",
            "| 45|      admin.|  single|  unknown|     no|     13|    yes|  no|unknown|  5|  may|      98|       1|   -1|       0| unknown| no|\n",
            "| 57| blue-collar| married|  primary|     no|     52|    yes|  no|unknown|  5|  may|      38|       1|   -1|       0| unknown| no|\n",
            "| 60|     retired| married|  primary|     no|     60|    yes|  no|unknown|  5|  may|     219|       1|   -1|       0| unknown| no|\n",
            "| 33|    services| married|secondary|     no|      0|    yes|  no|unknown|  5|  may|      54|       1|   -1|       0| unknown| no|\n",
            "+---+------------+--------+---------+-------+-------+-------+----+-------+---+-----+--------+--------+-----+--------+--------+---+\n",
            "only showing top 20 rows\n",
            "\n"
          ]
        }
      ]
    },
    {
      "cell_type": "code",
      "source": [
        "#convert target column variable to numeric\n",
        "from pyspark.sql import functions as F\n",
        "df = df.withColumn('y', F.when(F.col(\"y\") == 'yes',1).otherwise(0))"
      ],
      "metadata": {
        "id": "4wC9UFRKyKKK"
      },
      "execution_count": null,
      "outputs": []
    },
    {
      "cell_type": "code",
      "source": [
        "##datatype of each column and treat them accordingly\n",
        "def variable_type(df):\n",
        "  vars_list = df.dtypes\n",
        "  char_vars = []\n",
        "  num_vars = []\n",
        "  for i in vars_list:\n",
        "    if i[1] in ('string'):\n",
        "      char_vars.append(i[0])\n",
        "    else:\n",
        "      num_vars.append(i[0])\n",
        "  return char_vars,num_vars"
      ],
      "metadata": {
        "id": "9crB0v4ayKCz"
      },
      "execution_count": null,
      "outputs": []
    },
    {
      "cell_type": "code",
      "source": [
        "char_vars, num_vars = variable_type(df)"
      ],
      "metadata": {
        "id": "x8qJd0m6yJ23"
      },
      "execution_count": null,
      "outputs": []
    },
    {
      "cell_type": "code",
      "source": [
        "target_variable_name = \"y\"\n",
        "num_vars.remove(target_variable_name)"
      ],
      "metadata": {
        "id": "NwmLN9ns1U-E"
      },
      "execution_count": null,
      "outputs": []
    },
    {
      "cell_type": "code",
      "source": [
        "from pyspark.ml.feature import StringIndexer\n",
        "from pyspark.ml import Pipeline"
      ],
      "metadata": {
        "id": "E49fg4Gz1ml3"
      },
      "execution_count": null,
      "outputs": []
    },
    {
      "cell_type": "code",
      "source": [
        "##convert categorical to numeric using label encoder option\n",
        "def category_to_index(df, char_vars):\n",
        "\n",
        "  char_df = df.select(char_vars)\n",
        "  indexers = [StringIndexer(inputCol=c, outputCol=c+\"_index\",\n",
        "                            handleInvalid=\"keep\") for c in char_df.columns]\n",
        "  pipeline = Pipeline(stages=indexers)\n",
        "  char_labels = pipeline.fit(char_df)\n",
        "  df = char_labels.transform(df)\n",
        "  return df, char_labels\n"
      ],
      "metadata": {
        "id": "neNuaGeE1mdT"
      },
      "execution_count": null,
      "outputs": []
    },
    {
      "cell_type": "code",
      "source": [
        "df, char_labels = category_to_index(df, char_vars)\n",
        "df = df.select([c for c in df.columns if c not in char_vars])"
      ],
      "metadata": {
        "id": "1ZwuPoU21mYA"
      },
      "execution_count": null,
      "outputs": []
    },
    {
      "cell_type": "code",
      "source": [
        "def rename_columns(df, char_vars):\n",
        "  mapping = dict(zip([i + '_index' for i in char_vars], char_vars))\n",
        "  df = df.select([F.col(c).alias(mapping.get(c,c)) for c in df.columns])\n",
        "\n",
        "  return df"
      ],
      "metadata": {
        "id": "bJqeZHth3isC"
      },
      "execution_count": null,
      "outputs": []
    },
    {
      "cell_type": "code",
      "source": [
        "df = rename_columns(df, char_vars)\n"
      ],
      "metadata": {
        "id": "zVTTyr4m4ZLf"
      },
      "execution_count": null,
      "outputs": []
    },
    {
      "cell_type": "code",
      "source": [
        "df.show()"
      ],
      "metadata": {
        "colab": {
          "base_uri": "https://localhost:8080/"
        },
        "id": "qm6oJXnN4ZIs",
        "outputId": "8809cdb3-30fd-4598-a3a2-415b05150747"
      },
      "execution_count": null,
      "outputs": [
        {
          "output_type": "stream",
          "name": "stdout",
          "text": [
            "+---+-------+---+--------+--------+-----+--------+---+----+-------+---------+-------+-------+----+-------+-----+--------+\n",
            "|age|balance|day|duration|campaign|pdays|previous|  y| job|marital|education|default|housing|loan|contact|month|poutcome|\n",
            "+---+-------+---+--------+--------+-----+--------+---+----+-------+---------+-------+-------+----+-------+-----+--------+\n",
            "| 58|   2143|  5|     261|       1|   -1|       0|  0| 1.0|    0.0|      1.0|    0.0|    0.0| 0.0|    1.0|  0.0|     0.0|\n",
            "| 44|     29|  5|     151|       1|   -1|       0|  0| 2.0|    1.0|      0.0|    0.0|    0.0| 0.0|    1.0|  0.0|     0.0|\n",
            "| 33|      2|  5|      76|       1|   -1|       0|  0| 7.0|    0.0|      0.0|    0.0|    0.0| 1.0|    1.0|  0.0|     0.0|\n",
            "| 47|   1506|  5|      92|       1|   -1|       0|  0| 0.0|    0.0|      3.0|    0.0|    0.0| 0.0|    1.0|  0.0|     0.0|\n",
            "| 33|      1|  5|     198|       1|   -1|       0|  0|11.0|    1.0|      3.0|    0.0|    1.0| 0.0|    1.0|  0.0|     0.0|\n",
            "| 35|    231|  5|     139|       1|   -1|       0|  0| 1.0|    0.0|      1.0|    0.0|    0.0| 0.0|    1.0|  0.0|     0.0|\n",
            "| 28|    447|  5|     217|       1|   -1|       0|  0| 1.0|    1.0|      1.0|    0.0|    0.0| 1.0|    1.0|  0.0|     0.0|\n",
            "| 42|      2|  5|     380|       1|   -1|       0|  0| 7.0|    2.0|      1.0|    1.0|    0.0| 0.0|    1.0|  0.0|     0.0|\n",
            "| 58|    121|  5|      50|       1|   -1|       0|  0| 5.0|    0.0|      2.0|    0.0|    0.0| 0.0|    1.0|  0.0|     0.0|\n",
            "| 43|    593|  5|      55|       1|   -1|       0|  0| 2.0|    1.0|      0.0|    0.0|    0.0| 0.0|    1.0|  0.0|     0.0|\n",
            "| 41|    270|  5|     222|       1|   -1|       0|  0| 3.0|    2.0|      0.0|    0.0|    0.0| 0.0|    1.0|  0.0|     0.0|\n",
            "| 29|    390|  5|     137|       1|   -1|       0|  0| 3.0|    1.0|      0.0|    0.0|    0.0| 0.0|    1.0|  0.0|     0.0|\n",
            "| 53|      6|  5|     517|       1|   -1|       0|  0| 2.0|    0.0|      0.0|    0.0|    0.0| 0.0|    1.0|  0.0|     0.0|\n",
            "| 58|     71|  5|      71|       1|   -1|       0|  0| 2.0|    0.0|      3.0|    0.0|    0.0| 0.0|    1.0|  0.0|     0.0|\n",
            "| 57|    162|  5|     174|       1|   -1|       0|  0| 4.0|    0.0|      0.0|    0.0|    0.0| 0.0|    1.0|  0.0|     0.0|\n",
            "| 51|    229|  5|     353|       1|   -1|       0|  0| 5.0|    0.0|      2.0|    0.0|    0.0| 0.0|    1.0|  0.0|     0.0|\n",
            "| 45|     13|  5|      98|       1|   -1|       0|  0| 3.0|    1.0|      3.0|    0.0|    0.0| 0.0|    1.0|  0.0|     0.0|\n",
            "| 57|     52|  5|      38|       1|   -1|       0|  0| 0.0|    0.0|      2.0|    0.0|    0.0| 0.0|    1.0|  0.0|     0.0|\n",
            "| 60|     60|  5|     219|       1|   -1|       0|  0| 5.0|    0.0|      2.0|    0.0|    0.0| 0.0|    1.0|  0.0|     0.0|\n",
            "| 33|      0|  5|      54|       1|   -1|       0|  0| 4.0|    0.0|      0.0|    0.0|    0.0| 0.0|    1.0|  0.0|     0.0|\n",
            "+---+-------+---+--------+--------+-----+--------+---+----+-------+---------+-------+-------+----+-------+-----+--------+\n",
            "only showing top 20 rows\n",
            "\n"
          ]
        }
      ]
    },
    {
      "cell_type": "code",
      "source": [
        "from pyspark.ml.feature import VectorAssembler"
      ],
      "metadata": {
        "id": "Y--fRdmV4Y_6"
      },
      "execution_count": null,
      "outputs": []
    },
    {
      "cell_type": "code",
      "source": [
        "def assemble_vectors(df, features_list, target_variable_name):\n",
        "  stages = []\n",
        "  #assemble vectors\n",
        "  assembler = VectorAssembler(inputCols=features_list,\n",
        "                              outputCol='features')\n",
        "  stages=[assembler]\n",
        "  #select all the columns + target + newly created 'features' column\n",
        "  selectedCols = [target_variable_name, 'features'] + features_list\n",
        "  #use pipeline to process sequentially\n",
        "  pipeline = Pipeline(stages=stages)\n",
        "  #assembler model\n",
        "  assembleModel = pipeline.fit(df)\n",
        "  #apply assembler model on data\n",
        "  df = assembleModel.transform(df).select(selectedCols)\n",
        "\n",
        "  return df, assembleModel, selectedCols"
      ],
      "metadata": {
        "id": "dk0_8xZ74nBe"
      },
      "execution_count": null,
      "outputs": []
    },
    {
      "cell_type": "code",
      "source": [
        "##exclude target variable and select all other feature vectors\n",
        "features_list = df.columns\n",
        "features_list.remove(target_variable_name)"
      ],
      "metadata": {
        "id": "tTWdR1Ov5iY1"
      },
      "execution_count": null,
      "outputs": []
    },
    {
      "cell_type": "code",
      "source": [
        "## apply the function on our Dataframe\n",
        "df, assembleModel, selectedCols = assemble_vectors(df, features_list, target_variable_name)"
      ],
      "metadata": {
        "id": "ZfndjhpJ5iQe"
      },
      "execution_count": null,
      "outputs": []
    },
    {
      "cell_type": "code",
      "source": [
        "## train test split\n",
        "train, test = df.randomSplit([0.7,0.3], seed=12345)"
      ],
      "metadata": {
        "id": "f-klsH3k53Lu"
      },
      "execution_count": null,
      "outputs": []
    },
    {
      "cell_type": "code",
      "source": [
        "train.count() , test.count()"
      ],
      "metadata": {
        "colab": {
          "base_uri": "https://localhost:8080/"
        },
        "id": "URLyEK0d6Qec",
        "outputId": "97158d0e-a6b6-4a87-f827-20f8ddf4039a"
      },
      "execution_count": null,
      "outputs": [
        {
          "output_type": "execute_result",
          "data": {
            "text/plain": [
              "(31527, 13684)"
            ]
          },
          "metadata": {},
          "execution_count": 21
        }
      ]
    },
    {
      "cell_type": "code",
      "source": [
        "##Random Forest Model\n",
        "from pyspark.ml.classification import RandomForestClassifier"
      ],
      "metadata": {
        "id": "cocodvA36QVu"
      },
      "execution_count": null,
      "outputs": []
    },
    {
      "cell_type": "code",
      "source": [
        "clf = RandomForestClassifier(featuresCol='features', labelCol='y')\n",
        "clf_model = clf.fit(train)\n",
        "print(clf_model.featureImportances)\n",
        "print(clf_model.toDebugString)\n",
        "train_pred_result = clf_model.transform(train)\n",
        "test_pred_result = clf_model.transform(test)"
      ],
      "metadata": {
        "colab": {
          "base_uri": "https://localhost:8080/"
        },
        "id": "K-665LAX6QHf",
        "outputId": "0e0749ba-fd68-45fc-8143-bab423315493"
      },
      "execution_count": null,
      "outputs": [
        {
          "output_type": "stream",
          "name": "stdout",
          "text": [
            "(16,[0,1,2,3,4,5,6,7,8,9,10,11,12,13,14,15],[0.018582336841372053,0.011884996352216192,0.005957331614977746,0.51325178319009,0.003295308737052858,0.07477875895564604,0.038843596797758104,0.004785016471433819,0.0019392910397189316,0.0007224763299857643,7.328177665528677e-05,0.04987920428038465,0.0018209721976935346,0.020499857327493053,0.07735113190824491,0.17633465617927702])\n",
            "RandomForestClassificationModel: uid=RandomForestClassifier_3d15ce8260f5, numTrees=20, numClasses=2, numFeatures=16\n",
            "  Tree 0 (weight 1.0):\n",
            "    If (feature 3 <= 486.5)\n",
            "     If (feature 5 <= 20.0)\n",
            "      Predict: 0.0\n",
            "     Else (feature 5 > 20.0)\n",
            "      If (feature 15 in {0.0,1.0,2.0})\n",
            "       Predict: 0.0\n",
            "      Else (feature 15 not in {0.0,1.0,2.0})\n",
            "       If (feature 4 <= 6.5)\n",
            "        Predict: 1.0\n",
            "       Else (feature 4 > 6.5)\n",
            "        Predict: 0.0\n",
            "    Else (feature 3 > 486.5)\n",
            "     If (feature 11 in {1.0})\n",
            "      If (feature 6 <= 0.5)\n",
            "       If (feature 8 in {1.0,2.0})\n",
            "        If (feature 14 in {10.0,11.0})\n",
            "         Predict: 1.0\n",
            "        Else (feature 14 not in {10.0,11.0})\n",
            "         Predict: 0.0\n",
            "       Else (feature 8 not in {1.0,2.0})\n",
            "        If (feature 2 <= 29.5)\n",
            "         Predict: 0.0\n",
            "        Else (feature 2 > 29.5)\n",
            "         Predict: 1.0\n",
            "      Else (feature 6 > 0.5)\n",
            "       If (feature 15 in {1.0,2.0})\n",
            "        If (feature 5 <= 28.5)\n",
            "         Predict: 0.0\n",
            "        Else (feature 5 > 28.5)\n",
            "         Predict: 1.0\n",
            "       Else (feature 15 not in {1.0,2.0})\n",
            "        Predict: 1.0\n",
            "     Else (feature 11 not in {1.0})\n",
            "      If (feature 3 <= 911.5)\n",
            "       Predict: 0.0\n",
            "      Else (feature 3 > 911.5)\n",
            "       If (feature 7 in {2.0,4.0,5.0,6.0,7.0,8.0,9.0,10.0})\n",
            "        If (feature 4 <= 4.5)\n",
            "         Predict: 0.0\n",
            "        Else (feature 4 > 4.5)\n",
            "         Predict: 1.0\n",
            "       Else (feature 7 not in {2.0,4.0,5.0,6.0,7.0,8.0,9.0,10.0})\n",
            "        Predict: 1.0\n",
            "  Tree 1 (weight 1.0):\n",
            "    If (feature 14 in {7.0,8.0,9.0,10.0,11.0})\n",
            "     If (feature 14 in {7.0,11.0})\n",
            "      If (feature 5 <= 287.5)\n",
            "       Predict: 0.0\n",
            "      Else (feature 5 > 287.5)\n",
            "       Predict: 1.0\n",
            "     Else (feature 14 not in {7.0,11.0})\n",
            "      If (feature 7 in {7.0,8.0,9.0,10.0,11.0})\n",
            "       If (feature 6 <= 0.5)\n",
            "        Predict: 0.0\n",
            "       Else (feature 6 > 0.5)\n",
            "        If (feature 13 in {1.0,2.0})\n",
            "         Predict: 0.0\n",
            "        Else (feature 13 not in {1.0,2.0})\n",
            "         Predict: 1.0\n",
            "      Else (feature 7 not in {7.0,8.0,9.0,10.0,11.0})\n",
            "       If (feature 9 in {2.0,3.0})\n",
            "        If (feature 3 <= 201.5)\n",
            "         Predict: 0.0\n",
            "        Else (feature 3 > 201.5)\n",
            "         Predict: 1.0\n",
            "       Else (feature 9 not in {2.0,3.0})\n",
            "        If (feature 3 <= 147.5)\n",
            "         Predict: 0.0\n",
            "        Else (feature 3 > 147.5)\n",
            "         Predict: 1.0\n",
            "    Else (feature 14 not in {7.0,8.0,9.0,10.0,11.0})\n",
            "     If (feature 15 in {1.0,2.0,3.0})\n",
            "      If (feature 11 in {0.0})\n",
            "       If (feature 5 <= 98.5)\n",
            "        If (feature 3 <= 189.5)\n",
            "         Predict: 0.0\n",
            "        Else (feature 3 > 189.5)\n",
            "         Predict: 1.0\n",
            "       Else (feature 5 > 98.5)\n",
            "        Predict: 0.0\n",
            "      Else (feature 11 not in {0.0})\n",
            "       Predict: 0.0\n",
            "     Else (feature 15 not in {1.0,2.0,3.0})\n",
            "      If (feature 3 <= 564.5)\n",
            "       Predict: 0.0\n",
            "      Else (feature 3 > 564.5)\n",
            "       If (feature 13 in {1.0,2.0})\n",
            "        If (feature 14 in {1.0,2.0,4.0,5.0,6.0})\n",
            "         Predict: 1.0\n",
            "        Else (feature 14 not in {1.0,2.0,4.0,5.0,6.0})\n",
            "         Predict: 0.0\n",
            "       Else (feature 13 not in {1.0,2.0})\n",
            "        If (feature 0 <= 52.5)\n",
            "         Predict: 1.0\n",
            "        Else (feature 0 > 52.5)\n",
            "         Predict: 0.0\n",
            "  Tree 2 (weight 1.0):\n",
            "    If (feature 3 <= 564.5)\n",
            "     If (feature 6 <= 0.5)\n",
            "      Predict: 0.0\n",
            "     Else (feature 6 > 0.5)\n",
            "      If (feature 14 in {0.0,1.0,3.0,4.0,5.0,6.0,7.0,8.0,10.0,11.0})\n",
            "       If (feature 15 in {1.0,2.0})\n",
            "        Predict: 0.0\n",
            "       Else (feature 15 not in {1.0,2.0})\n",
            "        If (feature 3 <= 137.5)\n",
            "         Predict: 0.0\n",
            "        Else (feature 3 > 137.5)\n",
            "         Predict: 1.0\n",
            "      Else (feature 14 not in {0.0,1.0,3.0,4.0,5.0,6.0,7.0,8.0,10.0,11.0})\n",
            "       If (feature 7 in {4.0,5.0,6.0,7.0,8.0,9.0,10.0,11.0})\n",
            "        If (feature 1 <= 149.5)\n",
            "         Predict: 1.0\n",
            "        Else (feature 1 > 149.5)\n",
            "         Predict: 0.0\n",
            "       Else (feature 7 not in {4.0,5.0,6.0,7.0,8.0,9.0,10.0,11.0})\n",
            "        If (feature 3 <= 147.5)\n",
            "         Predict: 0.0\n",
            "        Else (feature 3 > 147.5)\n",
            "         Predict: 1.0\n",
            "    Else (feature 3 > 564.5)\n",
            "     If (feature 3 <= 911.5)\n",
            "      If (feature 5 <= -0.5)\n",
            "       Predict: 0.0\n",
            "      Else (feature 5 > -0.5)\n",
            "       If (feature 2 <= 21.5)\n",
            "        If (feature 7 in {0.0,2.0,3.0,4.0,5.0,6.0,7.0,8.0,9.0,10.0})\n",
            "         Predict: 0.0\n",
            "        Else (feature 7 not in {0.0,2.0,3.0,4.0,5.0,6.0,7.0,8.0,9.0,10.0})\n",
            "         Predict: 1.0\n",
            "       Else (feature 2 > 21.5)\n",
            "        Predict: 1.0\n",
            "     Else (feature 3 > 911.5)\n",
            "      If (feature 0 <= 47.5)\n",
            "       If (feature 4 <= 5.5)\n",
            "        If (feature 13 in {1.0,2.0})\n",
            "         Predict: 0.0\n",
            "        Else (feature 13 not in {1.0,2.0})\n",
            "         Predict: 1.0\n",
            "       Else (feature 4 > 5.5)\n",
            "        If (feature 14 in {0.0,4.0})\n",
            "         Predict: 0.0\n",
            "        Else (feature 14 not in {0.0,4.0})\n",
            "         Predict: 1.0\n",
            "      Else (feature 0 > 47.5)\n",
            "       If (feature 2 <= 18.5)\n",
            "        If (feature 13 in {1.0,2.0})\n",
            "         Predict: 0.0\n",
            "        Else (feature 13 not in {1.0,2.0})\n",
            "         Predict: 1.0\n",
            "       Else (feature 2 > 18.5)\n",
            "        If (feature 15 in {1.0,2.0})\n",
            "         Predict: 0.0\n",
            "        Else (feature 15 not in {1.0,2.0})\n",
            "         Predict: 1.0\n",
            "  Tree 3 (weight 1.0):\n",
            "    If (feature 11 in {0.0})\n",
            "     If (feature 13 in {1.0,2.0})\n",
            "      Predict: 0.0\n",
            "     Else (feature 13 not in {1.0,2.0})\n",
            "      If (feature 15 in {2.0,3.0})\n",
            "       If (feature 5 <= 98.5)\n",
            "        If (feature 3 <= 189.5)\n",
            "         Predict: 0.0\n",
            "        Else (feature 3 > 189.5)\n",
            "         Predict: 1.0\n",
            "       Else (feature 5 > 98.5)\n",
            "        Predict: 0.0\n",
            "      Else (feature 15 not in {2.0,3.0})\n",
            "       If (feature 3 <= 564.5)\n",
            "        Predict: 0.0\n",
            "       Else (feature 3 > 564.5)\n",
            "        If (feature 3 <= 911.5)\n",
            "         Predict: 0.0\n",
            "        Else (feature 3 > 911.5)\n",
            "         Predict: 1.0\n",
            "    Else (feature 11 not in {0.0})\n",
            "     If (feature 3 <= 247.5)\n",
            "      Predict: 0.0\n",
            "     Else (feature 3 > 247.5)\n",
            "      If (feature 15 in {1.0,2.0,3.0})\n",
            "       If (feature 14 in {0.0,4.0,5.0,7.0,8.0,10.0,11.0})\n",
            "        If (feature 15 in {1.0,2.0})\n",
            "         Predict: 0.0\n",
            "        Else (feature 15 not in {1.0,2.0})\n",
            "         Predict: 1.0\n",
            "       Else (feature 14 not in {0.0,4.0,5.0,7.0,8.0,10.0,11.0})\n",
            "        Predict: 1.0\n",
            "      Else (feature 15 not in {1.0,2.0,3.0})\n",
            "       If (feature 14 in {7.0,8.0,9.0,10.0,11.0})\n",
            "        If (feature 1 <= 602.5)\n",
            "         Predict: 0.0\n",
            "        Else (feature 1 > 602.5)\n",
            "         Predict: 1.0\n",
            "       Else (feature 14 not in {7.0,8.0,9.0,10.0,11.0})\n",
            "        Predict: 0.0\n",
            "  Tree 4 (weight 1.0):\n",
            "    If (feature 5 <= 8.5)\n",
            "     If (feature 13 in {1.0,2.0})\n",
            "      If (feature 0 <= 59.5)\n",
            "       If (feature 3 <= 564.5)\n",
            "        Predict: 0.0\n",
            "       Else (feature 3 > 564.5)\n",
            "        If (feature 2 <= 29.5)\n",
            "         Predict: 0.0\n",
            "        Else (feature 2 > 29.5)\n",
            "         Predict: 1.0\n",
            "      Else (feature 0 > 59.5)\n",
            "       If (feature 1 <= 391.5)\n",
            "        If (feature 7 in {0.0,2.0,3.0,4.0,5.0,6.0,7.0,8.0,9.0,11.0})\n",
            "         Predict: 0.0\n",
            "        Else (feature 7 not in {0.0,2.0,3.0,4.0,5.0,6.0,7.0,8.0,9.0,11.0})\n",
            "         Predict: 1.0\n",
            "       Else (feature 1 > 391.5)\n",
            "        Predict: 0.0\n",
            "     Else (feature 13 not in {1.0,2.0})\n",
            "      Predict: 0.0\n",
            "    Else (feature 5 > 8.5)\n",
            "     If (feature 3 <= 189.5)\n",
            "      Predict: 0.0\n",
            "     Else (feature 3 > 189.5)\n",
            "      If (feature 11 in {0.0})\n",
            "       If (feature 14 in {1.0,2.0,3.0,6.0,7.0,8.0,9.0,10.0,11.0})\n",
            "        If (feature 14 in {7.0})\n",
            "         Predict: 0.0\n",
            "        Else (feature 14 not in {7.0})\n",
            "         Predict: 1.0\n",
            "       Else (feature 14 not in {1.0,2.0,3.0,6.0,7.0,8.0,9.0,10.0,11.0})\n",
            "        Predict: 0.0\n",
            "      Else (feature 11 not in {0.0})\n",
            "       If (feature 14 in {0.0,1.0,3.0,4.0,5.0,6.0,7.0,10.0,11.0})\n",
            "        If (feature 5 <= 98.5)\n",
            "         Predict: 1.0\n",
            "        Else (feature 5 > 98.5)\n",
            "         Predict: 0.0\n",
            "       Else (feature 14 not in {0.0,1.0,3.0,4.0,5.0,6.0,7.0,10.0,11.0})\n",
            "        If (feature 9 in {2.0})\n",
            "         Predict: 0.0\n",
            "        Else (feature 9 not in {2.0})\n",
            "         Predict: 1.0\n",
            "  Tree 5 (weight 1.0):\n",
            "    If (feature 14 in {7.0,8.0,9.0,10.0,11.0})\n",
            "     If (feature 14 in {7.0,11.0})\n",
            "      If (feature 14 in {11.0})\n",
            "       If (feature 7 in {0.0,2.0,6.0,7.0,9.0,10.0,11.0})\n",
            "        Predict: 0.0\n",
            "       Else (feature 7 not in {0.0,2.0,6.0,7.0,9.0,10.0,11.0})\n",
            "        If (feature 1 <= 889.5)\n",
            "         Predict: 0.0\n",
            "        Else (feature 1 > 889.5)\n",
            "         Predict: 1.0\n",
            "      Else (feature 14 not in {11.0})\n",
            "       If (feature 3 <= 691.5)\n",
            "        Predict: 0.0\n",
            "       Else (feature 3 > 691.5)\n",
            "        If (feature 0 <= 37.5)\n",
            "         Predict: 0.0\n",
            "        Else (feature 0 > 37.5)\n",
            "         Predict: 1.0\n",
            "     Else (feature 14 not in {7.0,11.0})\n",
            "      If (feature 2 <= 2.5)\n",
            "       If (feature 1 <= 0.5)\n",
            "        Predict: 1.0\n",
            "       Else (feature 1 > 0.5)\n",
            "        Predict: 0.0\n",
            "      Else (feature 2 > 2.5)\n",
            "       If (feature 13 in {1.0})\n",
            "        If (feature 7 in {0.0,1.0,3.0,4.0,5.0,6.0,7.0,8.0,9.0,10.0})\n",
            "         Predict: 0.0\n",
            "        Else (feature 7 not in {0.0,1.0,3.0,4.0,5.0,6.0,7.0,8.0,9.0,10.0})\n",
            "         Predict: 1.0\n",
            "       Else (feature 13 not in {1.0})\n",
            "        If (feature 3 <= 177.5)\n",
            "         Predict: 0.0\n",
            "        Else (feature 3 > 177.5)\n",
            "         Predict: 1.0\n",
            "    Else (feature 14 not in {7.0,8.0,9.0,10.0,11.0})\n",
            "     If (feature 1 <= 780.5)\n",
            "      If (feature 5 <= -0.5)\n",
            "       Predict: 0.0\n",
            "      Else (feature 5 > -0.5)\n",
            "       If (feature 5 <= 195.5)\n",
            "        If (feature 14 in {1.0,3.0})\n",
            "         Predict: 1.0\n",
            "        Else (feature 14 not in {1.0,3.0})\n",
            "         Predict: 0.0\n",
            "       Else (feature 5 > 195.5)\n",
            "        Predict: 0.0\n",
            "     Else (feature 1 > 780.5)\n",
            "      If (feature 14 in {1.0,2.0,3.0,4.0,5.0,6.0})\n",
            "       If (feature 5 <= 8.5)\n",
            "        Predict: 0.0\n",
            "       Else (feature 5 > 8.5)\n",
            "        If (feature 15 in {0.0,1.0,2.0})\n",
            "         Predict: 0.0\n",
            "        Else (feature 15 not in {0.0,1.0,2.0})\n",
            "         Predict: 1.0\n",
            "      Else (feature 14 not in {1.0,2.0,3.0,4.0,5.0,6.0})\n",
            "       Predict: 0.0\n",
            "  Tree 6 (weight 1.0):\n",
            "    If (feature 6 <= 0.5)\n",
            "     If (feature 0 <= 59.5)\n",
            "      If (feature 14 in {4.0,5.0,6.0,7.0,8.0,9.0,10.0,11.0})\n",
            "       If (feature 3 <= 486.5)\n",
            "        Predict: 0.0\n",
            "       Else (feature 3 > 486.5)\n",
            "        If (feature 3 <= 911.5)\n",
            "         Predict: 0.0\n",
            "        Else (feature 3 > 911.5)\n",
            "         Predict: 1.0\n",
            "      Else (feature 14 not in {4.0,5.0,6.0,7.0,8.0,9.0,10.0,11.0})\n",
            "       Predict: 0.0\n",
            "     Else (feature 0 > 59.5)\n",
            "      If (feature 3 <= 231.5)\n",
            "       Predict: 0.0\n",
            "      Else (feature 3 > 231.5)\n",
            "       If (feature 13 in {1.0})\n",
            "        Predict: 0.0\n",
            "       Else (feature 13 not in {1.0})\n",
            "        If (feature 14 in {1.0,3.0,4.0,7.0,11.0})\n",
            "         Predict: 0.0\n",
            "        Else (feature 14 not in {1.0,3.0,4.0,7.0,11.0})\n",
            "         Predict: 1.0\n",
            "    Else (feature 6 > 0.5)\n",
            "     If (feature 3 <= 231.5)\n",
            "      Predict: 0.0\n",
            "     Else (feature 3 > 231.5)\n",
            "      If (feature 15 in {0.0,1.0,2.0})\n",
            "       If (feature 14 in {1.0,2.0,3.0,7.0,8.0,9.0,10.0,11.0})\n",
            "        If (feature 5 <= 349.5)\n",
            "         Predict: 0.0\n",
            "        Else (feature 5 > 349.5)\n",
            "         Predict: 1.0\n",
            "       Else (feature 14 not in {1.0,2.0,3.0,7.0,8.0,9.0,10.0,11.0})\n",
            "        Predict: 0.0\n",
            "      Else (feature 15 not in {0.0,1.0,2.0})\n",
            "       If (feature 2 <= 20.5)\n",
            "        If (feature 8 in {2.0})\n",
            "         Predict: 0.0\n",
            "        Else (feature 8 not in {2.0})\n",
            "         Predict: 1.0\n",
            "       Else (feature 2 > 20.5)\n",
            "        Predict: 1.0\n",
            "  Tree 7 (weight 1.0):\n",
            "    If (feature 4 <= 1.5)\n",
            "     If (feature 15 in {1.0,2.0,3.0})\n",
            "      If (feature 11 in {0.0})\n",
            "       If (feature 15 in {2.0,3.0})\n",
            "        If (feature 0 <= 59.5)\n",
            "         Predict: 0.0\n",
            "        Else (feature 0 > 59.5)\n",
            "         Predict: 1.0\n",
            "       Else (feature 15 not in {2.0,3.0})\n",
            "        Predict: 0.0\n",
            "      Else (feature 11 not in {0.0})\n",
            "       If (feature 1 <= 109.5)\n",
            "        Predict: 0.0\n",
            "       Else (feature 1 > 109.5)\n",
            "        If (feature 7 in {9.0,11.0})\n",
            "         Predict: 0.0\n",
            "        Else (feature 7 not in {9.0,11.0})\n",
            "         Predict: 1.0\n",
            "     Else (feature 15 not in {1.0,2.0,3.0})\n",
            "      If (feature 14 in {7.0,8.0,9.0,10.0,11.0})\n",
            "       If (feature 1 <= 2372.5)\n",
            "        Predict: 0.0\n",
            "       Else (feature 1 > 2372.5)\n",
            "        If (feature 3 <= 110.5)\n",
            "         Predict: 0.0\n",
            "        Else (feature 3 > 110.5)\n",
            "         Predict: 1.0\n",
            "      Else (feature 14 not in {7.0,8.0,9.0,10.0,11.0})\n",
            "       Predict: 0.0\n",
            "    Else (feature 4 > 1.5)\n",
            "     If (feature 6 <= 0.5)\n",
            "      If (feature 3 <= 564.5)\n",
            "       Predict: 0.0\n",
            "      Else (feature 3 > 564.5)\n",
            "       If (feature 7 in {10.0,11.0})\n",
            "        If (feature 2 <= 20.5)\n",
            "         Predict: 0.0\n",
            "        Else (feature 2 > 20.5)\n",
            "         Predict: 1.0\n",
            "       Else (feature 7 not in {10.0,11.0})\n",
            "        If (feature 0 <= 27.5)\n",
            "         Predict: 1.0\n",
            "        Else (feature 0 > 27.5)\n",
            "         Predict: 0.0\n",
            "     Else (feature 6 > 0.5)\n",
            "      If (feature 14 in {1.0,2.0,3.0,4.0,5.0,6.0,7.0,8.0,9.0,10.0,11.0})\n",
            "       If (feature 14 in {1.0,3.0,4.0,5.0,6.0,7.0,8.0,9.0,10.0,11.0})\n",
            "        Predict: 0.0\n",
            "       Else (feature 14 not in {1.0,3.0,4.0,5.0,6.0,7.0,8.0,9.0,10.0,11.0})\n",
            "        If (feature 6 <= 7.5)\n",
            "         Predict: 0.0\n",
            "        Else (feature 6 > 7.5)\n",
            "         Predict: 1.0\n",
            "      Else (feature 14 not in {1.0,2.0,3.0,4.0,5.0,6.0,7.0,8.0,9.0,10.0,11.0})\n",
            "       Predict: 0.0\n",
            "  Tree 8 (weight 1.0):\n",
            "    If (feature 5 <= 12.5)\n",
            "     If (feature 14 in {7.0,8.0,9.0,10.0,11.0})\n",
            "      If (feature 7 in {8.0})\n",
            "       If (feature 0 <= 30.5)\n",
            "        If (feature 14 in {7.0,9.0,10.0})\n",
            "         Predict: 0.0\n",
            "        Else (feature 14 not in {7.0,9.0,10.0})\n",
            "         Predict: 1.0\n",
            "       Else (feature 0 > 30.5)\n",
            "        Predict: 0.0\n",
            "      Else (feature 7 not in {8.0})\n",
            "       If (feature 3 <= 137.5)\n",
            "        Predict: 0.0\n",
            "       Else (feature 3 > 137.5)\n",
            "        If (feature 14 in {7.0,11.0})\n",
            "         Predict: 0.0\n",
            "        Else (feature 14 not in {7.0,11.0})\n",
            "         Predict: 1.0\n",
            "     Else (feature 14 not in {7.0,8.0,9.0,10.0,11.0})\n",
            "      If (feature 1 <= 238.5)\n",
            "       Predict: 0.0\n",
            "      Else (feature 1 > 238.5)\n",
            "       If (feature 3 <= 564.5)\n",
            "        Predict: 0.0\n",
            "       Else (feature 3 > 564.5)\n",
            "        If (feature 10 in {1.0})\n",
            "         Predict: 1.0\n",
            "        Else (feature 10 not in {1.0})\n",
            "         Predict: 0.0\n",
            "    Else (feature 5 > 12.5)\n",
            "     If (feature 0 <= 59.5)\n",
            "      If (feature 1 <= 889.5)\n",
            "       If (feature 5 <= 98.5)\n",
            "        If (feature 15 in {1.0,2.0})\n",
            "         Predict: 0.0\n",
            "        Else (feature 15 not in {1.0,2.0})\n",
            "         Predict: 1.0\n",
            "       Else (feature 5 > 98.5)\n",
            "        If (feature 15 in {0.0,1.0,2.0})\n",
            "         Predict: 0.0\n",
            "        Else (feature 15 not in {0.0,1.0,2.0})\n",
            "         Predict: 1.0\n",
            "      Else (feature 1 > 889.5)\n",
            "       If (feature 14 in {4.0,7.0,10.0,11.0})\n",
            "        Predict: 0.0\n",
            "       Else (feature 14 not in {4.0,7.0,10.0,11.0})\n",
            "        If (feature 15 in {1.0,2.0})\n",
            "         Predict: 0.0\n",
            "        Else (feature 15 not in {1.0,2.0})\n",
            "         Predict: 1.0\n",
            "     Else (feature 0 > 59.5)\n",
            "      If (feature 15 in {0.0,1.0,2.0})\n",
            "       If (feature 2 <= 28.5)\n",
            "        If (feature 3 <= 426.5)\n",
            "         Predict: 0.0\n",
            "        Else (feature 3 > 426.5)\n",
            "         Predict: 1.0\n",
            "       Else (feature 2 > 28.5)\n",
            "        If (feature 6 <= 3.5)\n",
            "         Predict: 1.0\n",
            "        Else (feature 6 > 3.5)\n",
            "         Predict: 0.0\n",
            "      Else (feature 15 not in {0.0,1.0,2.0})\n",
            "       If (feature 11 in {0.0})\n",
            "        Predict: 1.0\n",
            "       Else (feature 11 not in {0.0})\n",
            "        If (feature 7 in {4.0,6.0,9.0,11.0})\n",
            "         Predict: 0.0\n",
            "        Else (feature 7 not in {4.0,6.0,9.0,11.0})\n",
            "         Predict: 1.0\n",
            "  Tree 9 (weight 1.0):\n",
            "    If (feature 3 <= 486.5)\n",
            "     If (feature 6 <= 0.5)\n",
            "      If (feature 14 in {0.0,1.0,2.0,3.0,4.0,6.0,7.0,8.0,9.0,10.0,11.0})\n",
            "       Predict: 0.0\n",
            "      Else (feature 14 not in {0.0,1.0,2.0,3.0,4.0,6.0,7.0,8.0,9.0,10.0,11.0})\n",
            "       If (feature 3 <= 137.5)\n",
            "        Predict: 0.0\n",
            "       Else (feature 3 > 137.5)\n",
            "        If (feature 11 in {0.0})\n",
            "         Predict: 0.0\n",
            "        Else (feature 11 not in {0.0})\n",
            "         Predict: 1.0\n",
            "     Else (feature 6 > 0.5)\n",
            "      If (feature 11 in {0.0})\n",
            "       Predict: 0.0\n",
            "      Else (feature 11 not in {0.0})\n",
            "       If (feature 15 in {0.0,1.0,2.0})\n",
            "        Predict: 0.0\n",
            "       Else (feature 15 not in {0.0,1.0,2.0})\n",
            "        If (feature 3 <= 128.5)\n",
            "         Predict: 0.0\n",
            "        Else (feature 3 > 128.5)\n",
            "         Predict: 1.0\n",
            "    Else (feature 3 > 486.5)\n",
            "     If (feature 15 in {2.0,3.0})\n",
            "      If (feature 2 <= 1.5)\n",
            "       If (feature 5 <= 170.5)\n",
            "        Predict: 0.0\n",
            "       Else (feature 5 > 170.5)\n",
            "        If (feature 5 <= 195.5)\n",
            "         Predict: 1.0\n",
            "        Else (feature 5 > 195.5)\n",
            "         Predict: 0.0\n",
            "      Else (feature 2 > 1.5)\n",
            "       If (feature 1 <= 4977.5)\n",
            "        If (feature 8 in {2.0})\n",
            "         Predict: 0.0\n",
            "        Else (feature 8 not in {2.0})\n",
            "         Predict: 1.0\n",
            "       Else (feature 1 > 4977.5)\n",
            "        Predict: 1.0\n",
            "     Else (feature 15 not in {2.0,3.0})\n",
            "      If (feature 3 <= 691.5)\n",
            "       If (feature 14 in {7.0})\n",
            "        Predict: 0.0\n",
            "       Else (feature 14 not in {7.0})\n",
            "        If (feature 6 <= 9.5)\n",
            "         Predict: 0.0\n",
            "        Else (feature 6 > 9.5)\n",
            "         Predict: 1.0\n",
            "      Else (feature 3 > 691.5)\n",
            "       If (feature 2 <= 29.5)\n",
            "        If (feature 7 in {7.0,9.0,10.0,11.0})\n",
            "         Predict: 0.0\n",
            "        Else (feature 7 not in {7.0,9.0,10.0,11.0})\n",
            "         Predict: 1.0\n",
            "       Else (feature 2 > 29.5)\n",
            "        If (feature 4 <= 3.5)\n",
            "         Predict: 1.0\n",
            "        Else (feature 4 > 3.5)\n",
            "         Predict: 0.0\n",
            "  Tree 10 (weight 1.0):\n",
            "    If (feature 15 in {1.0,2.0,3.0})\n",
            "     If (feature 3 <= 201.5)\n",
            "      If (feature 11 in {0.0})\n",
            "       Predict: 0.0\n",
            "      Else (feature 11 not in {0.0})\n",
            "       If (feature 3 <= 128.5)\n",
            "        Predict: 0.0\n",
            "       Else (feature 3 > 128.5)\n",
            "        If (feature 15 in {1.0,2.0})\n",
            "         Predict: 0.0\n",
            "        Else (feature 15 not in {1.0,2.0})\n",
            "         Predict: 1.0\n",
            "     Else (feature 3 > 201.5)\n",
            "      If (feature 15 in {1.0,2.0})\n",
            "       If (feature 11 in {0.0})\n",
            "        Predict: 0.0\n",
            "       Else (feature 11 not in {0.0})\n",
            "        If (feature 14 in {0.0,3.0,4.0,5.0,6.0,7.0,8.0,10.0,11.0})\n",
            "         Predict: 0.0\n",
            "        Else (feature 14 not in {0.0,3.0,4.0,5.0,6.0,7.0,8.0,10.0,11.0})\n",
            "         Predict: 1.0\n",
            "      Else (feature 15 not in {1.0,2.0})\n",
            "       Predict: 1.0\n",
            "    Else (feature 15 not in {1.0,2.0,3.0})\n",
            "     If (feature 14 in {4.0,5.0,6.0,7.0,8.0,9.0,10.0,11.0})\n",
            "      If (feature 2 <= 29.5)\n",
            "       If (feature 3 <= 691.5)\n",
            "        Predict: 0.0\n",
            "       Else (feature 3 > 691.5)\n",
            "        If (feature 7 in {5.0,6.0,7.0,8.0,9.0,10.0,11.0})\n",
            "         Predict: 0.0\n",
            "        Else (feature 7 not in {5.0,6.0,7.0,8.0,9.0,10.0,11.0})\n",
            "         Predict: 1.0\n",
            "      Else (feature 2 > 29.5)\n",
            "       If (feature 7 in {0.0,4.0,6.0,7.0,8.0,9.0,11.0})\n",
            "        If (feature 9 in {3.0})\n",
            "         Predict: 1.0\n",
            "        Else (feature 9 not in {3.0})\n",
            "         Predict: 0.0\n",
            "       Else (feature 7 not in {0.0,4.0,6.0,7.0,8.0,9.0,11.0})\n",
            "        If (feature 14 in {4.0,7.0,9.0,10.0,11.0})\n",
            "         Predict: 0.0\n",
            "        Else (feature 14 not in {4.0,7.0,9.0,10.0,11.0})\n",
            "         Predict: 1.0\n",
            "     Else (feature 14 not in {4.0,5.0,6.0,7.0,8.0,9.0,10.0,11.0})\n",
            "      If (feature 3 <= 564.5)\n",
            "       Predict: 0.0\n",
            "      Else (feature 3 > 564.5)\n",
            "       If (feature 13 in {1.0,2.0})\n",
            "        Predict: 0.0\n",
            "       Else (feature 13 not in {1.0,2.0})\n",
            "        If (feature 3 <= 911.5)\n",
            "         Predict: 0.0\n",
            "        Else (feature 3 > 911.5)\n",
            "         Predict: 1.0\n",
            "  Tree 11 (weight 1.0):\n",
            "    If (feature 6 <= 0.5)\n",
            "     If (feature 0 <= 59.5)\n",
            "      If (feature 3 <= 564.5)\n",
            "       Predict: 0.0\n",
            "      Else (feature 3 > 564.5)\n",
            "       If (feature 3 <= 911.5)\n",
            "        Predict: 0.0\n",
            "       Else (feature 3 > 911.5)\n",
            "        If (feature 13 in {1.0,2.0})\n",
            "         Predict: 0.0\n",
            "        Else (feature 13 not in {1.0,2.0})\n",
            "         Predict: 1.0\n",
            "     Else (feature 0 > 59.5)\n",
            "      If (feature 4 <= 5.5)\n",
            "       If (feature 4 <= 4.5)\n",
            "        Predict: 0.0\n",
            "       Else (feature 4 > 4.5)\n",
            "        If (feature 12 in {1.0})\n",
            "         Predict: 0.0\n",
            "        Else (feature 12 not in {1.0})\n",
            "         Predict: 1.0\n",
            "      Else (feature 4 > 5.5)\n",
            "       If (feature 12 in {1.0})\n",
            "        Predict: 0.0\n",
            "       Else (feature 12 not in {1.0})\n",
            "        If (feature 3 <= 426.5)\n",
            "         Predict: 0.0\n",
            "        Else (feature 3 > 426.5)\n",
            "         Predict: 1.0\n",
            "    Else (feature 6 > 0.5)\n",
            "     If (feature 12 in {1.0})\n",
            "      If (feature 0 <= 25.5)\n",
            "       If (feature 2 <= 14.5)\n",
            "        If (feature 7 in {3.0})\n",
            "         Predict: 0.0\n",
            "        Else (feature 7 not in {3.0})\n",
            "         Predict: 1.0\n",
            "       Else (feature 2 > 14.5)\n",
            "        Predict: 1.0\n",
            "      Else (feature 0 > 25.5)\n",
            "       If (feature 3 <= 911.5)\n",
            "        Predict: 0.0\n",
            "       Else (feature 3 > 911.5)\n",
            "        If (feature 2 <= 10.5)\n",
            "         Predict: 1.0\n",
            "        Else (feature 2 > 10.5)\n",
            "         Predict: 0.0\n",
            "     Else (feature 12 not in {1.0})\n",
            "      If (feature 14 in {1.0,2.0,3.0,4.0,5.0,6.0,7.0,8.0,9.0,10.0,11.0})\n",
            "       If (feature 15 in {0.0,1.0,2.0})\n",
            "        Predict: 0.0\n",
            "       Else (feature 15 not in {0.0,1.0,2.0})\n",
            "        If (feature 6 <= 10.5)\n",
            "         Predict: 1.0\n",
            "        Else (feature 6 > 10.5)\n",
            "         Predict: 0.0\n",
            "      Else (feature 14 not in {1.0,2.0,3.0,4.0,5.0,6.0,7.0,8.0,9.0,10.0,11.0})\n",
            "       If (feature 5 <= 195.5)\n",
            "        If (feature 15 in {1.0,2.0})\n",
            "         Predict: 0.0\n",
            "        Else (feature 15 not in {1.0,2.0})\n",
            "         Predict: 1.0\n",
            "       Else (feature 5 > 195.5)\n",
            "        Predict: 0.0\n",
            "  Tree 12 (weight 1.0):\n",
            "    If (feature 11 in {0.0})\n",
            "     If (feature 15 in {2.0,3.0})\n",
            "      If (feature 15 in {2.0})\n",
            "       Predict: 0.0\n",
            "      Else (feature 15 not in {2.0})\n",
            "       If (feature 0 <= 59.5)\n",
            "        If (feature 3 <= 147.5)\n",
            "         Predict: 0.0\n",
            "        Else (feature 3 > 147.5)\n",
            "         Predict: 1.0\n",
            "       Else (feature 0 > 59.5)\n",
            "        If (feature 14 in {6.0})\n",
            "         Predict: 0.0\n",
            "        Else (feature 14 not in {6.0})\n",
            "         Predict: 1.0\n",
            "     Else (feature 15 not in {2.0,3.0})\n",
            "      If (feature 8 in {1.0,2.0})\n",
            "       If (feature 3 <= 564.5)\n",
            "        Predict: 0.0\n",
            "       Else (feature 3 > 564.5)\n",
            "        If (feature 5 <= 349.5)\n",
            "         Predict: 0.0\n",
            "        Else (feature 5 > 349.5)\n",
            "         Predict: 1.0\n",
            "      Else (feature 8 not in {1.0,2.0})\n",
            "       Predict: 0.0\n",
            "    Else (feature 11 not in {0.0})\n",
            "     If (feature 5 <= 14.0)\n",
            "      If (feature 3 <= 564.5)\n",
            "       Predict: 0.0\n",
            "      Else (feature 3 > 564.5)\n",
            "       If (feature 3 <= 911.5)\n",
            "        Predict: 0.0\n",
            "       Else (feature 3 > 911.5)\n",
            "        Predict: 1.0\n",
            "     Else (feature 5 > 14.0)\n",
            "      If (feature 15 in {0.0,1.0,2.0})\n",
            "       Predict: 0.0\n",
            "      Else (feature 15 not in {0.0,1.0,2.0})\n",
            "       If (feature 0 <= 34.5)\n",
            "        If (feature 2 <= 28.5)\n",
            "         Predict: 1.0\n",
            "        Else (feature 2 > 28.5)\n",
            "         Predict: 0.0\n",
            "       Else (feature 0 > 34.5)\n",
            "        If (feature 3 <= 166.5)\n",
            "         Predict: 0.0\n",
            "        Else (feature 3 > 166.5)\n",
            "         Predict: 1.0\n",
            "  Tree 13 (weight 1.0):\n",
            "    If (feature 6 <= 0.5)\n",
            "     If (feature 0 <= 59.5)\n",
            "      If (feature 3 <= 564.5)\n",
            "       Predict: 0.0\n",
            "      Else (feature 3 > 564.5)\n",
            "       If (feature 3 <= 911.5)\n",
            "        Predict: 0.0\n",
            "       Else (feature 3 > 911.5)\n",
            "        Predict: 1.0\n",
            "     Else (feature 0 > 59.5)\n",
            "      If (feature 12 in {1.0})\n",
            "       If (feature 14 in {1.0,3.0,5.0,11.0})\n",
            "        Predict: 0.0\n",
            "       Else (feature 14 not in {1.0,3.0,5.0,11.0})\n",
            "        If (feature 4 <= 1.5)\n",
            "         Predict: 1.0\n",
            "        Else (feature 4 > 1.5)\n",
            "         Predict: 0.0\n",
            "      Else (feature 12 not in {1.0})\n",
            "       If (feature 13 in {1.0})\n",
            "        If (feature 3 <= 691.5)\n",
            "         Predict: 0.0\n",
            "        Else (feature 3 > 691.5)\n",
            "         Predict: 1.0\n",
            "       Else (feature 13 not in {1.0})\n",
            "        Predict: 0.0\n",
            "    Else (feature 6 > 0.5)\n",
            "     If (feature 5 <= 98.5)\n",
            "      If (feature 5 <= 8.5)\n",
            "       If (feature 15 in {1.0,2.0})\n",
            "        Predict: 0.0\n",
            "       Else (feature 15 not in {1.0,2.0})\n",
            "        If (feature 0 <= 41.5)\n",
            "         Predict: 0.0\n",
            "        Else (feature 0 > 41.5)\n",
            "         Predict: 1.0\n",
            "      Else (feature 5 > 8.5)\n",
            "       If (feature 15 in {1.0,2.0})\n",
            "        Predict: 0.0\n",
            "       Else (feature 15 not in {1.0,2.0})\n",
            "        If (feature 3 <= 156.5)\n",
            "         Predict: 0.0\n",
            "        Else (feature 3 > 156.5)\n",
            "         Predict: 1.0\n",
            "     Else (feature 5 > 98.5)\n",
            "      If (feature 5 <= 195.5)\n",
            "       If (feature 3 <= 177.5)\n",
            "        Predict: 0.0\n",
            "       Else (feature 3 > 177.5)\n",
            "        If (feature 3 <= 426.5)\n",
            "         Predict: 0.0\n",
            "        Else (feature 3 > 426.5)\n",
            "         Predict: 1.0\n",
            "      Else (feature 5 > 195.5)\n",
            "       If (feature 0 <= 59.5)\n",
            "        Predict: 0.0\n",
            "       Else (feature 0 > 59.5)\n",
            "        If (feature 14 in {0.0,1.0,2.0,4.0,5.0,6.0,7.0,8.0})\n",
            "         Predict: 0.0\n",
            "        Else (feature 14 not in {0.0,1.0,2.0,4.0,5.0,6.0,7.0,8.0})\n",
            "         Predict: 1.0\n",
            "  Tree 14 (weight 1.0):\n",
            "    If (feature 3 <= 426.5)\n",
            "     Predict: 0.0\n",
            "    Else (feature 3 > 426.5)\n",
            "     If (feature 13 in {1.0,2.0})\n",
            "      If (feature 13 in {2.0})\n",
            "       If (feature 8 in {2.0})\n",
            "        If (feature 3 <= 486.5)\n",
            "         Predict: 0.0\n",
            "        Else (feature 3 > 486.5)\n",
            "         Predict: 1.0\n",
            "       Else (feature 8 not in {2.0})\n",
            "        If (feature 2 <= 4.5)\n",
            "         Predict: 1.0\n",
            "        Else (feature 2 > 4.5)\n",
            "         Predict: 0.0\n",
            "      Else (feature 13 not in {2.0})\n",
            "       Predict: 0.0\n",
            "     Else (feature 13 not in {1.0,2.0})\n",
            "      If (feature 0 <= 59.5)\n",
            "       If (feature 3 <= 691.5)\n",
            "        Predict: 0.0\n",
            "       Else (feature 3 > 691.5)\n",
            "        Predict: 1.0\n",
            "      Else (feature 0 > 59.5)\n",
            "       If (feature 1 <= 0.5)\n",
            "        Predict: 1.0\n",
            "       Else (feature 1 > 0.5)\n",
            "        If (feature 12 in {1.0})\n",
            "         Predict: 0.0\n",
            "        Else (feature 12 not in {1.0})\n",
            "         Predict: 1.0\n",
            "  Tree 15 (weight 1.0):\n",
            "    If (feature 1 <= 191.5)\n",
            "     If (feature 3 <= 564.5)\n",
            "      If (feature 3 <= 342.5)\n",
            "       Predict: 0.0\n",
            "      Else (feature 3 > 342.5)\n",
            "       If (feature 5 <= 12.5)\n",
            "        Predict: 0.0\n",
            "       Else (feature 5 > 12.5)\n",
            "        If (feature 5 <= 98.5)\n",
            "         Predict: 1.0\n",
            "        Else (feature 5 > 98.5)\n",
            "         Predict: 0.0\n",
            "     Else (feature 3 > 564.5)\n",
            "      If (feature 3 <= 911.5)\n",
            "       If (feature 12 in {1.0})\n",
            "        If (feature 14 in {4.0,7.0})\n",
            "         Predict: 0.0\n",
            "        Else (feature 14 not in {4.0,7.0})\n",
            "         Predict: 1.0\n",
            "       Else (feature 12 not in {1.0})\n",
            "        Predict: 0.0\n",
            "      Else (feature 3 > 911.5)\n",
            "       If (feature 2 <= 22.5)\n",
            "        If (feature 13 in {1.0,2.0})\n",
            "         Predict: 0.0\n",
            "        Else (feature 13 not in {1.0,2.0})\n",
            "         Predict: 1.0\n",
            "       Else (feature 2 > 22.5)\n",
            "        If (feature 7 in {2.0,3.0,4.0,5.0,8.0,9.0})\n",
            "         Predict: 0.0\n",
            "        Else (feature 7 not in {2.0,3.0,4.0,5.0,8.0,9.0})\n",
            "         Predict: 1.0\n",
            "    Else (feature 1 > 191.5)\n",
            "     If (feature 15 in {1.0,2.0,3.0})\n",
            "      If (feature 15 in {1.0,2.0})\n",
            "       Predict: 0.0\n",
            "      Else (feature 15 not in {1.0,2.0})\n",
            "       If (feature 3 <= 147.5)\n",
            "        Predict: 0.0\n",
            "       Else (feature 3 > 147.5)\n",
            "        Predict: 1.0\n",
            "     Else (feature 15 not in {1.0,2.0,3.0})\n",
            "      Predict: 0.0\n",
            "  Tree 16 (weight 1.0):\n",
            "    If (feature 3 <= 564.5)\n",
            "     If (feature 5 <= 35.5)\n",
            "      Predict: 0.0\n",
            "     Else (feature 5 > 35.5)\n",
            "      If (feature 14 in {0.0,1.0,3.0,4.0,5.0,6.0,7.0,8.0,10.0,11.0})\n",
            "       If (feature 3 <= 287.5)\n",
            "        Predict: 0.0\n",
            "       Else (feature 3 > 287.5)\n",
            "        If (feature 15 in {1.0,2.0})\n",
            "         Predict: 0.0\n",
            "        Else (feature 15 not in {1.0,2.0})\n",
            "         Predict: 1.0\n",
            "      Else (feature 14 not in {0.0,1.0,3.0,4.0,5.0,6.0,7.0,8.0,10.0,11.0})\n",
            "       If (feature 3 <= 166.5)\n",
            "        Predict: 0.0\n",
            "       Else (feature 3 > 166.5)\n",
            "        If (feature 1 <= 3717.5)\n",
            "         Predict: 1.0\n",
            "        Else (feature 1 > 3717.5)\n",
            "         Predict: 0.0\n",
            "    Else (feature 3 > 564.5)\n",
            "     If (feature 13 in {1.0,2.0})\n",
            "      If (feature 13 in {2.0})\n",
            "       If (feature 7 in {0.0,1.0,2.0,3.0,4.0,6.0,7.0,8.0,9.0,10.0})\n",
            "        If (feature 0 <= 39.5)\n",
            "         Predict: 1.0\n",
            "        Else (feature 0 > 39.5)\n",
            "         Predict: 0.0\n",
            "       Else (feature 7 not in {0.0,1.0,2.0,3.0,4.0,6.0,7.0,8.0,9.0,10.0})\n",
            "        If (feature 9 in {0.0})\n",
            "         Predict: 0.0\n",
            "        Else (feature 9 not in {0.0})\n",
            "         Predict: 1.0\n",
            "      Else (feature 13 not in {2.0})\n",
            "       If (feature 8 in {2.0})\n",
            "        If (feature 7 in {2.0,3.0,6.0,7.0,9.0})\n",
            "         Predict: 0.0\n",
            "        Else (feature 7 not in {2.0,3.0,6.0,7.0,9.0})\n",
            "         Predict: 1.0\n",
            "       Else (feature 8 not in {2.0})\n",
            "        Predict: 0.0\n",
            "     Else (feature 13 not in {1.0,2.0})\n",
            "      If (feature 3 <= 911.5)\n",
            "       If (feature 8 in {1.0,2.0})\n",
            "        Predict: 1.0\n",
            "       Else (feature 8 not in {1.0,2.0})\n",
            "        If (feature 15 in {2.0,3.0})\n",
            "         Predict: 1.0\n",
            "        Else (feature 15 not in {2.0,3.0})\n",
            "         Predict: 0.0\n",
            "      Else (feature 3 > 911.5)\n",
            "       If (feature 1 <= 1646.5)\n",
            "        If (feature 0 <= 56.5)\n",
            "         Predict: 1.0\n",
            "        Else (feature 0 > 56.5)\n",
            "         Predict: 0.0\n",
            "       Else (feature 1 > 1646.5)\n",
            "        If (feature 0 <= 28.5)\n",
            "         Predict: 1.0\n",
            "        Else (feature 0 > 28.5)\n",
            "         Predict: 0.0\n",
            "  Tree 17 (weight 1.0):\n",
            "    If (feature 5 <= 8.5)\n",
            "     If (feature 14 in {4.0,5.0,6.0,7.0,8.0,9.0,10.0,11.0})\n",
            "      If (feature 3 <= 312.5)\n",
            "       Predict: 0.0\n",
            "      Else (feature 3 > 312.5)\n",
            "       If (feature 1 <= 1646.5)\n",
            "        Predict: 0.0\n",
            "       Else (feature 1 > 1646.5)\n",
            "        If (feature 3 <= 691.5)\n",
            "         Predict: 0.0\n",
            "        Else (feature 3 > 691.5)\n",
            "         Predict: 1.0\n",
            "     Else (feature 14 not in {4.0,5.0,6.0,7.0,8.0,9.0,10.0,11.0})\n",
            "      If (feature 2 <= 5.5)\n",
            "       If (feature 6 <= 5.5)\n",
            "        Predict: 0.0\n",
            "       Else (feature 6 > 5.5)\n",
            "        Predict: 1.0\n",
            "      Else (feature 2 > 5.5)\n",
            "       Predict: 0.0\n",
            "    Else (feature 5 > 8.5)\n",
            "     If (feature 15 in {0.0,1.0,2.0})\n",
            "      If (feature 3 <= 379.5)\n",
            "       Predict: 0.0\n",
            "      Else (feature 3 > 379.5)\n",
            "       If (feature 3 <= 691.5)\n",
            "        If (feature 11 in {0.0})\n",
            "         Predict: 0.0\n",
            "        Else (feature 11 not in {0.0})\n",
            "         Predict: 1.0\n",
            "       Else (feature 3 > 691.5)\n",
            "        If (feature 1 <= 1220.5)\n",
            "         Predict: 0.0\n",
            "        Else (feature 1 > 1220.5)\n",
            "         Predict: 1.0\n",
            "     Else (feature 15 not in {0.0,1.0,2.0})\n",
            "      If (feature 14 in {1.0,3.0,4.0,5.0,7.0,8.0,9.0,10.0,11.0})\n",
            "       If (feature 3 <= 147.5)\n",
            "        Predict: 0.0\n",
            "       Else (feature 3 > 147.5)\n",
            "        If (feature 5 <= 41.5)\n",
            "         Predict: 0.0\n",
            "        Else (feature 5 > 41.5)\n",
            "         Predict: 1.0\n",
            "      Else (feature 14 not in {1.0,3.0,4.0,5.0,7.0,8.0,9.0,10.0,11.0})\n",
            "       If (feature 5 <= 42.5)\n",
            "        Predict: 0.0\n",
            "       Else (feature 5 > 42.5)\n",
            "        Predict: 1.0\n",
            "  Tree 18 (weight 1.0):\n",
            "    If (feature 13 in {1.0,2.0})\n",
            "     If (feature 3 <= 564.5)\n",
            "      If (feature 14 in {1.0,2.0,4.0,5.0,6.0,7.0,8.0,9.0,10.0,11.0})\n",
            "       Predict: 0.0\n",
            "      Else (feature 14 not in {1.0,2.0,4.0,5.0,6.0,7.0,8.0,9.0,10.0,11.0})\n",
            "       If (feature 3 <= 426.5)\n",
            "        Predict: 0.0\n",
            "       Else (feature 3 > 426.5)\n",
            "        If (feature 5 <= -0.5)\n",
            "         Predict: 0.0\n",
            "        Else (feature 5 > -0.5)\n",
            "         Predict: 1.0\n",
            "     Else (feature 3 > 564.5)\n",
            "      If (feature 0 <= 59.5)\n",
            "       If (feature 3 <= 691.5)\n",
            "        If (feature 5 <= -0.5)\n",
            "         Predict: 0.0\n",
            "        Else (feature 5 > -0.5)\n",
            "         Predict: 1.0\n",
            "       Else (feature 3 > 691.5)\n",
            "        Predict: 0.0\n",
            "      Else (feature 0 > 59.5)\n",
            "       If (feature 2 <= 20.5)\n",
            "        If (feature 2 <= 14.5)\n",
            "         Predict: 1.0\n",
            "        Else (feature 2 > 14.5)\n",
            "         Predict: 0.0\n",
            "       Else (feature 2 > 20.5)\n",
            "        Predict: 1.0\n",
            "    Else (feature 13 not in {1.0,2.0})\n",
            "     If (feature 0 <= 59.5)\n",
            "      If (feature 11 in {0.0})\n",
            "       Predict: 0.0\n",
            "      Else (feature 11 not in {0.0})\n",
            "       If (feature 3 <= 312.5)\n",
            "        Predict: 0.0\n",
            "       Else (feature 3 > 312.5)\n",
            "        If (feature 3 <= 564.5)\n",
            "         Predict: 0.0\n",
            "        Else (feature 3 > 564.5)\n",
            "         Predict: 1.0\n",
            "     Else (feature 0 > 59.5)\n",
            "      If (feature 3 <= 156.5)\n",
            "       If (feature 2 <= 29.5)\n",
            "        Predict: 0.0\n",
            "       Else (feature 2 > 29.5)\n",
            "        If (feature 14 in {4.0})\n",
            "         Predict: 0.0\n",
            "        Else (feature 14 not in {4.0})\n",
            "         Predict: 1.0\n",
            "      Else (feature 3 > 156.5)\n",
            "       If (feature 5 <= 51.5)\n",
            "        If (feature 11 in {0.0})\n",
            "         Predict: 1.0\n",
            "        Else (feature 11 not in {0.0})\n",
            "         Predict: 0.0\n",
            "       Else (feature 5 > 51.5)\n",
            "        If (feature 1 <= 889.5)\n",
            "         Predict: 0.0\n",
            "        Else (feature 1 > 889.5)\n",
            "         Predict: 1.0\n",
            "  Tree 19 (weight 1.0):\n",
            "    If (feature 3 <= 564.5)\n",
            "     If (feature 15 in {1.0,2.0,3.0})\n",
            "      If (feature 11 in {0.0})\n",
            "       If (feature 15 in {1.0,2.0})\n",
            "        Predict: 0.0\n",
            "       Else (feature 15 not in {1.0,2.0})\n",
            "        If (feature 3 <= 166.5)\n",
            "         Predict: 0.0\n",
            "        Else (feature 3 > 166.5)\n",
            "         Predict: 1.0\n",
            "      Else (feature 11 not in {0.0})\n",
            "       If (feature 4 <= 3.5)\n",
            "        If (feature 14 in {0.0,1.0,3.0,4.0,5.0,6.0,7.0,10.0,11.0})\n",
            "         Predict: 0.0\n",
            "        Else (feature 14 not in {0.0,1.0,3.0,4.0,5.0,6.0,7.0,10.0,11.0})\n",
            "         Predict: 1.0\n",
            "       Else (feature 4 > 3.5)\n",
            "        Predict: 0.0\n",
            "     Else (feature 15 not in {1.0,2.0,3.0})\n",
            "      Predict: 0.0\n",
            "    Else (feature 3 > 564.5)\n",
            "     If (feature 3 <= 911.5)\n",
            "      If (feature 5 <= -0.5)\n",
            "       If (feature 2 <= 29.5)\n",
            "        If (feature 0 <= 25.5)\n",
            "         Predict: 1.0\n",
            "        Else (feature 0 > 25.5)\n",
            "         Predict: 0.0\n",
            "       Else (feature 2 > 29.5)\n",
            "        If (feature 0 <= 52.5)\n",
            "         Predict: 1.0\n",
            "        Else (feature 0 > 52.5)\n",
            "         Predict: 0.0\n",
            "      Else (feature 5 > -0.5)\n",
            "       If (feature 14 in {4.0,11.0})\n",
            "        If (feature 1 <= 3717.5)\n",
            "         Predict: 0.0\n",
            "        Else (feature 1 > 3717.5)\n",
            "         Predict: 1.0\n",
            "       Else (feature 14 not in {4.0,11.0})\n",
            "        If (feature 15 in {1.0,2.0})\n",
            "         Predict: 0.0\n",
            "        Else (feature 15 not in {1.0,2.0})\n",
            "         Predict: 1.0\n",
            "     Else (feature 3 > 911.5)\n",
            "      If (feature 2 <= 29.5)\n",
            "       If (feature 9 in {3.0})\n",
            "        Predict: 0.0\n",
            "       Else (feature 9 not in {3.0})\n",
            "        If (feature 2 <= 26.5)\n",
            "         Predict: 1.0\n",
            "        Else (feature 2 > 26.5)\n",
            "         Predict: 0.0\n",
            "      Else (feature 2 > 29.5)\n",
            "       Predict: 1.0\n",
            "\n"
          ]
        }
      ]
    },
    {
      "cell_type": "code",
      "source": [
        "#validate the random forest model\n",
        "from pyspark.mllib.evaluation import MulticlassMetrics\n",
        "from pyspark.ml.evaluation import BinaryClassificationEvaluator\n",
        "from pyspark.sql.types import IntegerType, DoubleType"
      ],
      "metadata": {
        "id": "pq0ujqL56lZ6"
      },
      "execution_count": null,
      "outputs": []
    },
    {
      "cell_type": "code",
      "source": [
        "def evaluation_metrics(df, target_variable_name):\n",
        "  pred = df.select(\"prediction\", target_variable_name)\n",
        "  pred = pred.withColumn(target_variable_name, pred[target_variable_name].cast(DoubleType()))\n",
        "  pred = pred.withColumn(\"prediction\", pred[\"prediction\"].cast(DoubleType()))\n",
        "  metrics = MulticlassMetrics(pred.rdd.map(tuple))\n",
        "  #confusion matrix\n",
        "  cm = metrics.confusionMatrix().toArray()\n",
        "  acc = metrics.accuracy \n",
        "  misclassification_rate = 1 - acc\n",
        "  precision = metrics.precision(1.0)\n",
        "  recall = metrics.recall(1.0)\n",
        "  f1 = metrics.fMeasure(1.0)\n",
        "  #roc value\n",
        "  evaluator_roc = BinaryClassificationEvaluator(\n",
        "      labelCol=target_variable_name, rawPredictionCol='rawPrediction',metricName='areaUnderROC'\n",
        "  )\n",
        "  roc = evaluator_roc.evaluate(df)\n",
        "  evaluator_pr = BinaryClassificationEvaluator(labelCol=target_variable_name, rawPredictionCol='rawPrediction',metricName='areaUnderPR')\n",
        "  pr = evaluator_pr.evaluate(df)\n",
        "  \n",
        "  return cm, acc, misclassification_rate, precision, recall, f1, roc, pr\n"
      ],
      "metadata": {
        "id": "P5Fi_VyY6lXF"
      },
      "execution_count": null,
      "outputs": []
    },
    {
      "cell_type": "code",
      "source": [
        "train_cm, train_acc, train_miss_rate, train_precision, \\\n",
        "train_recall, train_f1, train_roc, train_pr = evaluation_metrics(train_pred_result, target_variable_name)"
      ],
      "metadata": {
        "colab": {
          "base_uri": "https://localhost:8080/"
        },
        "id": "XDh2UQ_39byQ",
        "outputId": "5c0f1e1a-6688-43f6-976b-f8a85a08fd9c"
      },
      "execution_count": null,
      "outputs": [
        {
          "output_type": "stream",
          "name": "stderr",
          "text": [
            "/usr/local/lib/python3.8/dist-packages/pyspark/sql/context.py:157: FutureWarning: Deprecated in 3.0.0. Use SparkSession.builder.getOrCreate() instead.\n",
            "  warnings.warn(\n"
          ]
        }
      ]
    },
    {
      "cell_type": "code",
      "source": [
        "test_cm, test_acc, test_miss_rate, test_precision, \\\n",
        "test_recall, test_f1, test_roc, test_pr = evaluation_metrics(test_pred_result, target_variable_name)"
      ],
      "metadata": {
        "colab": {
          "base_uri": "https://localhost:8080/"
        },
        "id": "Bsta0M8f9bvq",
        "outputId": "7b58f9b8-e8d7-4031-82e0-25a5ba363d9a"
      },
      "execution_count": null,
      "outputs": [
        {
          "output_type": "stream",
          "name": "stderr",
          "text": [
            "/usr/local/lib/python3.8/dist-packages/pyspark/sql/context.py:157: FutureWarning: Deprecated in 3.0.0. Use SparkSession.builder.getOrCreate() instead.\n",
            "  warnings.warn(\n"
          ]
        }
      ]
    },
    {
      "cell_type": "code",
      "source": [
        "print('Train accuracy - ', train_acc, ', Test accuracy - ', test_acc)"
      ],
      "metadata": {
        "colab": {
          "base_uri": "https://localhost:8080/"
        },
        "id": "aiZnIcbL9bs0",
        "outputId": "78ac0a4f-1d67-4320-aebd-a2af360be59f"
      },
      "execution_count": null,
      "outputs": [
        {
          "output_type": "stream",
          "name": "stdout",
          "text": [
            "Train accuracy -  0.8933929647603641 , Test accuracy -  0.8922098801520023\n"
          ]
        }
      ]
    },
    {
      "cell_type": "code",
      "source": [
        "print('Train misclassification rate - ', train_miss_rate, ', Test misclassification rate - ', test_miss_rate)"
      ],
      "metadata": {
        "colab": {
          "base_uri": "https://localhost:8080/"
        },
        "id": "Kd8BQl0B6lUM",
        "outputId": "f4dd735d-7de9-4dd0-d474-8c488c1befee"
      },
      "execution_count": null,
      "outputs": [
        {
          "output_type": "stream",
          "name": "stdout",
          "text": [
            "Train misclassification rate -  0.10660703523963588 , Test misclassification rate -  0.10779011984799769\n"
          ]
        }
      ]
    },
    {
      "cell_type": "code",
      "source": [
        "print('Train precision - ', train_precision, ', Test precision - ', test_precision)"
      ],
      "metadata": {
        "colab": {
          "base_uri": "https://localhost:8080/"
        },
        "id": "i3Z77L8I-ZCz",
        "outputId": "7ef39b04-b47d-4e28-8b0e-3204e0b5b3e7"
      },
      "execution_count": null,
      "outputs": [
        {
          "output_type": "stream",
          "name": "stdout",
          "text": [
            "Train precision -  0.8225806451612904 , Test precision -  0.8151658767772512\n"
          ]
        }
      ]
    },
    {
      "cell_type": "code",
      "source": [
        "print('Train recall - ', train_recall, ', Test recall - ', test_recall)"
      ],
      "metadata": {
        "colab": {
          "base_uri": "https://localhost:8080/"
        },
        "id": "gS_mAQ5W-Y5b",
        "outputId": "4ab40be4-b65f-4d5d-8efc-1fc1894c16f8"
      },
      "execution_count": null,
      "outputs": [
        {
          "output_type": "stream",
          "name": "stdout",
          "text": [
            "Train recall -  0.11083944580277098 , Test recall -  0.10696517412935323\n"
          ]
        }
      ]
    },
    {
      "cell_type": "code",
      "source": [
        "print('Train f1 score - ', train_f1, ', Test f1 score - ', test_f1)"
      ],
      "metadata": {
        "colab": {
          "base_uri": "https://localhost:8080/"
        },
        "id": "p2bodH0D-Yz_",
        "outputId": "7aa080e3-dc9a-4ff0-ddc5-48ee9b8a9ee9"
      },
      "execution_count": null,
      "outputs": [
        {
          "output_type": "stream",
          "name": "stdout",
          "text": [
            "Train f1 score -  0.19535551831457984 , Test f1 score -  0.18911489829576691\n"
          ]
        }
      ]
    },
    {
      "cell_type": "code",
      "source": [
        "print('Train ROC - ', train_roc, ', Test ROC - ', test_roc)"
      ],
      "metadata": {
        "colab": {
          "base_uri": "https://localhost:8080/"
        },
        "id": "TkeoAP6_-ozm",
        "outputId": "8a36381d-b1cd-4e9e-9132-8f30401216f0"
      },
      "execution_count": null,
      "outputs": [
        {
          "output_type": "stream",
          "name": "stdout",
          "text": [
            "Train ROC -  0.8906824886977339 , Test ROC -  0.8877679907435331\n"
          ]
        }
      ]
    },
    {
      "cell_type": "code",
      "source": [
        "print('Train PR - ', train_pr, ', Test PR - ', test_pr)"
      ],
      "metadata": {
        "colab": {
          "base_uri": "https://localhost:8080/"
        },
        "id": "x35a8GjB-ov_",
        "outputId": "76424a52-b711-4c17-c934-439cda2278f9"
      },
      "execution_count": null,
      "outputs": [
        {
          "output_type": "stream",
          "name": "stdout",
          "text": [
            "Train PR -  0.5639005268105522 , Test PR -  0.551935013081952\n"
          ]
        }
      ]
    },
    {
      "cell_type": "code",
      "source": [
        "import seaborn as sns\n",
        "import matplotlib.pyplot as plt"
      ],
      "metadata": {
        "id": "uCe5Ujd8_NjA"
      },
      "execution_count": null,
      "outputs": []
    },
    {
      "cell_type": "code",
      "source": [
        "def make_cm_chart(cf_matrix_train, cf_matrix_test):\n",
        "\n",
        "  list_values = ['0','1']\n",
        "\n",
        "  plt.figure(1, figsize=(10,5))\n",
        "  plt.subplot(121)\n",
        "  sns.heatmap(cf_matrix_train, annot=True, yticklabels=list_values,\n",
        "              xticklabels=list_values, fmt='g')\n",
        "  plt.ylabel('Actual')\n",
        "  plt.xlabel(\"Pred\")\n",
        "  plt.ylim([0, len(list_values)])\n",
        "  plt.title('Train data predictions')\n",
        "\n",
        "  plt.subplot(122)\n",
        "  sns.heatmap(cf_matrix_test, annot=True, yticklabels=list_values,\n",
        "              xticklabels=list_values, fmt='g')\n",
        "  plt.ylabel(\"Actual\")\n",
        "  plt.xlabel(\"Pred\")\n",
        "  plt.ylim([0, len(list_values)])\n",
        "  plt.title(\"Test data predictions\")\n",
        "\n",
        "  plt.tight_layout()\n",
        "  return None"
      ],
      "metadata": {
        "id": "-oQvOwkI_Na-"
      },
      "execution_count": null,
      "outputs": []
    },
    {
      "cell_type": "code",
      "source": [
        "make_cm_chart(train_cm, test_cm)"
      ],
      "metadata": {
        "colab": {
          "base_uri": "https://localhost:8080/",
          "height": 369
        },
        "id": "OcJOd14lAR5d",
        "outputId": "4548b801-9a48-4a97-9443-b72f1957f5ea"
      },
      "execution_count": null,
      "outputs": [
        {
          "output_type": "display_data",
          "data": {
            "text/plain": [
              "<Figure size 720x360 with 4 Axes>"
            ],
            "image/png": "[encoded data removed]"
          },
          "metadata": {
            "needs_background": "light"
          }
        }
      ]
    },
    {
      "cell_type": "code",
      "source": [
        "## Make ROC Chart and PR Curve\n",
        "from pyspark.mllib.evaluation import BinaryClassificationMetrics\n",
        "\n",
        "class CurveMetrics(BinaryClassificationMetrics):\n",
        "  def __init__(self, *args):\n",
        "    super(CurveMetrics, self).__init__(*args)\n",
        "\n",
        "  def _to_list(self, rdd):\n",
        "    points = []\n",
        "    results_collect = rdd.collect()\n",
        "    for row in results_collect:\n",
        "      points += [(float(row._1()), float(row._2()))]\n",
        "    return points\n",
        "\n",
        "  def get_curve(self, method):\n",
        "    rdd = getattr(self._java_model, method)().toJavaRDD()\n",
        "    return  self._to_list(rdd)\n"
      ],
      "metadata": {
        "id": "2ZbAO4peAcvC"
      },
      "execution_count": null,
      "outputs": []
    },
    {
      "cell_type": "code",
      "source": [
        "def plot_roc_pr(df, target_variable_name, plot_type, legend_value, title):\n",
        "\n",
        "  preds = df.select(target_variable_name, 'probability')\n",
        "  preds = preds.rdd.map(lambda row: (float(row['probability'][1]),float(row[target_variable_name])))\n",
        "  ## Returns as a list\n",
        "  points = CurveMetrics(preds).get_curve(plot_type)\n",
        "  plt.figure()\n",
        "  x_val = [x[0] for x in points]\n",
        "  y_val = [y[0] for y in points]\n",
        "  plt.title(title)\n",
        "\n",
        "  if plot_type == 'roc':\n",
        "    plt.xlabel(\"False Positive Rate (1- Specificity)\")\n",
        "    plt.ylabel(\"True Positive Rate (Sensitivity)\")\n",
        "    plt.plot(x_val, y_val, label= 'AUC = %0.2f' % legend_value)\n",
        "    plt.plot([0,1], [0,1], color='red', linestyle='--')\n",
        "\n",
        "  if plot_type == 'pr':\n",
        "    plt.xlabel('Recall')\n",
        "    plt.ylabel('Precision')\n",
        "    plt.plot(x_val, y_val, label= 'Average Precision = %0.2f' % legend_value)\n",
        "    plt.plot([0,1], [0.5 , 0.5], color='red', linestyle='--')\n",
        "\n",
        "  plt.legend(loc ='lower right')\n",
        "  return None"
      ],
      "metadata": {
        "id": "QFXsTTWBAcmq"
      },
      "execution_count": null,
      "outputs": []
    },
    {
      "cell_type": "code",
      "source": [
        "plot_roc_pr(train_pred_result, target_variable_name, 'roc', train_roc, 'Train ROC')"
      ],
      "metadata": {
        "colab": {
          "base_uri": "https://localhost:8080/",
          "height": 331
        },
        "id": "6J3zrlwSAccg",
        "outputId": "086cc034-7fd1-4d16-a7a0-8828cc31c8da"
      },
      "execution_count": null,
      "outputs": [
        {
          "output_type": "stream",
          "name": "stderr",
          "text": [
            "/usr/local/lib/python3.8/dist-packages/pyspark/sql/context.py:157: FutureWarning: Deprecated in 3.0.0. Use SparkSession.builder.getOrCreate() instead.\n",
            "  warnings.warn(\n"
          ]
        },
        {
          "output_type": "display_data",
          "data": {
            "text/plain": [
              "<Figure size 432x288 with 1 Axes>"
            ],
            "image/png": "[encoded data removed]"
          },
          "metadata": {
            "needs_background": "light"
          }
        }
      ]
    },
    {
      "cell_type": "code",
      "source": [
        "plot_roc_pr(test_pred_result, target_variable_name, 'roc', test_roc, 'Test ROC')"
      ],
      "metadata": {
        "colab": {
          "base_uri": "https://localhost:8080/",
          "height": 295
        },
        "id": "Dd-4lrWuDV2q",
        "outputId": "44cf300b-61d0-480c-dadf-bfab8ee37d9f"
      },
      "execution_count": null,
      "outputs": [
        {
          "output_type": "display_data",
          "data": {
            "text/plain": [
              "<Figure size 432x288 with 1 Axes>"
            ],
            "image/png": "[encoded data removed]"
          },
          "metadata": {
            "needs_background": "light"
          }
        }
      ]
    },
    {
      "cell_type": "code",
      "source": [
        "plot_roc_pr(train_pred_result, target_variable_name, 'pr', train_pr, 'Train Precision-Recall Curve')"
      ],
      "metadata": {
        "colab": {
          "base_uri": "https://localhost:8080/",
          "height": 331
        },
        "id": "bUECahueDcGo",
        "outputId": "b389f9e1-6483-4598-e749-bfb5df48e172"
      },
      "execution_count": null,
      "outputs": [
        {
          "output_type": "stream",
          "name": "stderr",
          "text": [
            "/usr/local/lib/python3.8/dist-packages/pyspark/sql/context.py:157: FutureWarning: Deprecated in 3.0.0. Use SparkSession.builder.getOrCreate() instead.\n",
            "  warnings.warn(\n"
          ]
        },
        {
          "output_type": "display_data",
          "data": {
            "text/plain": [
              "<Figure size 432x288 with 1 Axes>"
            ],
            "image/png": "[encoded data removed]"
          },
          "metadata": {
            "needs_background": "light"
          }
        }
      ]
    },
    {
      "cell_type": "code",
      "source": [
        "plot_roc_pr(test_pred_result, target_variable_name, 'pr', test_pr, 'Test Precision-Recall Curve')"
      ],
      "metadata": {
        "colab": {
          "base_uri": "https://localhost:8080/",
          "height": 295
        },
        "id": "lAH4kdh-Db96",
        "outputId": "8ac5d9b3-d08d-48a8-e186-c413e0a48c8d"
      },
      "execution_count": null,
      "outputs": [
        {
          "output_type": "display_data",
          "data": {
            "text/plain": [
              "<Figure size 432x288 with 1 Axes>"
            ],
            "image/png": "[encoded data removed]"
          },
          "metadata": {
            "needs_background": "light"
          }
        }
      ]
    },
    {
      "cell_type": "code",
      "source": [
        "import pickle"
      ],
      "metadata": {
        "id": "9Hoktu7XECl4"
      },
      "execution_count": null,
      "outputs": []
    },
    {
      "cell_type": "code",
      "source": [
        "char_labels.write().overwrite().save('char_label_model.h5')"
      ],
      "metadata": {
        "id": "Tuh0dX5oEFfp"
      },
      "execution_count": null,
      "outputs": []
    },
    {
      "cell_type": "code",
      "source": [
        "assembleModel.write().overwrite().save('assembleModel.h5')"
      ],
      "metadata": {
        "id": "QsSXJanAEaua"
      },
      "execution_count": null,
      "outputs": []
    },
    {
      "cell_type": "code",
      "source": [
        "clf_model.write().overwrite().save('clf_model.h5')"
      ],
      "metadata": {
        "id": "1cTgQu1EEqwq"
      },
      "execution_count": null,
      "outputs": []
    },
    {
      "cell_type": "code",
      "source": [
        "list_of_vars = [features_list, char_vars, num_vars]\n",
        "with open('file.pkl','wb') as handle:\n",
        "  pickle.dump(list_of_vars, handle)"
      ],
      "metadata": {
        "id": "sUBTp9SKFC-A"
      },
      "execution_count": null,
      "outputs": []
    },
    {
      "cell_type": "code",
      "source": [
        "!zip -r /content/assembleModel.zip /content/assembleModel.h5"
      ],
      "metadata": {
        "colab": {
          "base_uri": "https://localhost:8080/"
        },
        "id": "2C7L0qwZFCzk",
        "outputId": "ad03226e-05f5-40b4-a57c-a9812094c2e5"
      },
      "execution_count": null,
      "outputs": [
        {
          "output_type": "stream",
          "name": "stdout",
          "text": [
            "  adding: content/assembleModel.h5/ (stored 0%)\n",
            "  adding: content/assembleModel.h5/stages/ (stored 0%)\n",
            "  adding: content/assembleModel.h5/stages/0_VectorAssembler_9be2e2b0d9fd/ (stored 0%)\n",
            "  adding: content/assembleModel.h5/stages/0_VectorAssembler_9be2e2b0d9fd/metadata/ (stored 0%)\n",
            "  adding: content/assembleModel.h5/stages/0_VectorAssembler_9be2e2b0d9fd/metadata/_SUCCESS (stored 0%)\n",
            "  adding: content/assembleModel.h5/stages/0_VectorAssembler_9be2e2b0d9fd/metadata/.part-00000.crc (stored 0%)\n",
            "  adding: content/assembleModel.h5/stages/0_VectorAssembler_9be2e2b0d9fd/metadata/part-00000 (deflated 40%)\n",
            "  adding: content/assembleModel.h5/stages/0_VectorAssembler_9be2e2b0d9fd/metadata/._SUCCESS.crc (stored 0%)\n",
            "  adding: content/assembleModel.h5/metadata/ (stored 0%)\n",
            "  adding: content/assembleModel.h5/metadata/_SUCCESS (stored 0%)\n",
            "  adding: content/assembleModel.h5/metadata/.part-00000.crc (stored 0%)\n",
            "  adding: content/assembleModel.h5/metadata/part-00000 (deflated 22%)\n",
            "  adding: content/assembleModel.h5/metadata/._SUCCESS.crc (stored 0%)\n"
          ]
        }
      ]
    },
    {
      "cell_type": "code",
      "source": [
        "!zip -r /content/charmodel.zip /content/char_label_model.h5"
      ],
      "metadata": {
        "colab": {
          "base_uri": "https://localhost:8080/"
        },
        "id": "IAFk_R1fG6pC",
        "outputId": "3d54757e-4eda-4535-ec80-a58c6910d564"
      },
      "execution_count": null,
      "outputs": [
        {
          "output_type": "stream",
          "name": "stdout",
          "text": [
            "  adding: content/char_label_model.h5/ (stored 0%)\n",
            "  adding: content/char_label_model.h5/stages/ (stored 0%)\n",
            "  adding: content/char_label_model.h5/stages/6_StringIndexer_4d82ca53e374/ (stored 0%)\n",
            "  adding: content/char_label_model.h5/stages/6_StringIndexer_4d82ca53e374/data/ (stored 0%)\n",
            "  adding: content/char_label_model.h5/stages/6_StringIndexer_4d82ca53e374/data/_SUCCESS (stored 0%)\n",
            "  adding: content/char_label_model.h5/stages/6_StringIndexer_4d82ca53e374/data/._SUCCESS.crc (stored 0%)\n",
            "  adding: content/char_label_model.h5/stages/6_StringIndexer_4d82ca53e374/data/.part-00000-539631a3-bafe-4e2a-bec2-6ae777feb8ab-c000.snappy.parquet.crc (stored 0%)\n",
            "  adding: content/char_label_model.h5/stages/6_StringIndexer_4d82ca53e374/data/part-00000-539631a3-bafe-4e2a-bec2-6ae777feb8ab-c000.snappy.parquet (deflated 36%)\n",
            "  adding: content/char_label_model.h5/stages/6_StringIndexer_4d82ca53e374/metadata/ (stored 0%)\n",
            "  adding: content/char_label_model.h5/stages/6_StringIndexer_4d82ca53e374/metadata/_SUCCESS (stored 0%)\n",
            "  adding: content/char_label_model.h5/stages/6_StringIndexer_4d82ca53e374/metadata/.part-00000.crc (stored 0%)\n",
            "  adding: content/char_label_model.h5/stages/6_StringIndexer_4d82ca53e374/metadata/part-00000 (deflated 40%)\n",
            "  adding: content/char_label_model.h5/stages/6_StringIndexer_4d82ca53e374/metadata/._SUCCESS.crc (stored 0%)\n",
            "  adding: content/char_label_model.h5/stages/7_StringIndexer_894429cf901d/ (stored 0%)\n",
            "  adding: content/char_label_model.h5/stages/7_StringIndexer_894429cf901d/data/ (stored 0%)\n",
            "  adding: content/char_label_model.h5/stages/7_StringIndexer_894429cf901d/data/_SUCCESS (stored 0%)\n",
            "  adding: content/char_label_model.h5/stages/7_StringIndexer_894429cf901d/data/._SUCCESS.crc (stored 0%)\n",
            "  adding: content/char_label_model.h5/stages/7_StringIndexer_894429cf901d/data/.part-00000-68001a8a-f59b-4347-9701-73d6580ce347-c000.snappy.parquet.crc (stored 0%)\n",
            "  adding: content/char_label_model.h5/stages/7_StringIndexer_894429cf901d/data/part-00000-68001a8a-f59b-4347-9701-73d6580ce347-c000.snappy.parquet (deflated 34%)\n",
            "  adding: content/char_label_model.h5/stages/7_StringIndexer_894429cf901d/metadata/ (stored 0%)\n",
            "  adding: content/char_label_model.h5/stages/7_StringIndexer_894429cf901d/metadata/_SUCCESS (stored 0%)\n",
            "  adding: content/char_label_model.h5/stages/7_StringIndexer_894429cf901d/metadata/.part-00000.crc (stored 0%)\n",
            "  adding: content/char_label_model.h5/stages/7_StringIndexer_894429cf901d/metadata/part-00000 (deflated 39%)\n",
            "  adding: content/char_label_model.h5/stages/7_StringIndexer_894429cf901d/metadata/._SUCCESS.crc (stored 0%)\n",
            "  adding: content/char_label_model.h5/stages/4_StringIndexer_c75957503e20/ (stored 0%)\n",
            "  adding: content/char_label_model.h5/stages/4_StringIndexer_c75957503e20/data/ (stored 0%)\n",
            "  adding: content/char_label_model.h5/stages/4_StringIndexer_c75957503e20/data/_SUCCESS (stored 0%)\n",
            "  adding: content/char_label_model.h5/stages/4_StringIndexer_c75957503e20/data/._SUCCESS.crc (stored 0%)\n",
            "  adding: content/char_label_model.h5/stages/4_StringIndexer_c75957503e20/data/part-00000-223cdbb5-ef8b-48e1-8351-9448f7628dca-c000.snappy.parquet (deflated 35%)\n",
            "  adding: content/char_label_model.h5/stages/4_StringIndexer_c75957503e20/data/.part-00000-223cdbb5-ef8b-48e1-8351-9448f7628dca-c000.snappy.parquet.crc (stored 0%)\n",
            "  adding: content/char_label_model.h5/stages/4_StringIndexer_c75957503e20/metadata/ (stored 0%)\n",
            "  adding: content/char_label_model.h5/stages/4_StringIndexer_c75957503e20/metadata/_SUCCESS (stored 0%)\n",
            "  adding: content/char_label_model.h5/stages/4_StringIndexer_c75957503e20/metadata/.part-00000.crc (stored 0%)\n",
            "  adding: content/char_label_model.h5/stages/4_StringIndexer_c75957503e20/metadata/part-00000 (deflated 39%)\n",
            "  adding: content/char_label_model.h5/stages/4_StringIndexer_c75957503e20/metadata/._SUCCESS.crc (stored 0%)\n",
            "  adding: content/char_label_model.h5/stages/8_StringIndexer_73892fb219f5/ (stored 0%)\n",
            "  adding: content/char_label_model.h5/stages/8_StringIndexer_73892fb219f5/data/ (stored 0%)\n",
            "  adding: content/char_label_model.h5/stages/8_StringIndexer_73892fb219f5/data/_SUCCESS (stored 0%)\n",
            "  adding: content/char_label_model.h5/stages/8_StringIndexer_73892fb219f5/data/._SUCCESS.crc (stored 0%)\n",
            "  adding: content/char_label_model.h5/stages/8_StringIndexer_73892fb219f5/data/part-00000-5b68c223-7117-4f95-9eed-7ea9ed519738-c000.snappy.parquet (deflated 37%)\n",
            "  adding: content/char_label_model.h5/stages/8_StringIndexer_73892fb219f5/data/.part-00000-5b68c223-7117-4f95-9eed-7ea9ed519738-c000.snappy.parquet.crc (stored 0%)\n",
            "  adding: content/char_label_model.h5/stages/8_StringIndexer_73892fb219f5/metadata/ (stored 0%)\n",
            "  adding: content/char_label_model.h5/stages/8_StringIndexer_73892fb219f5/metadata/_SUCCESS (stored 0%)\n",
            "  adding: content/char_label_model.h5/stages/8_StringIndexer_73892fb219f5/metadata/.part-00000.crc (stored 0%)\n",
            "  adding: content/char_label_model.h5/stages/8_StringIndexer_73892fb219f5/metadata/part-00000 (deflated 39%)\n",
            "  adding: content/char_label_model.h5/stages/8_StringIndexer_73892fb219f5/metadata/._SUCCESS.crc (stored 0%)\n",
            "  adding: content/char_label_model.h5/stages/3_StringIndexer_e712edcfc1d4/ (stored 0%)\n",
            "  adding: content/char_label_model.h5/stages/3_StringIndexer_e712edcfc1d4/data/ (stored 0%)\n",
            "  adding: content/char_label_model.h5/stages/3_StringIndexer_e712edcfc1d4/data/.part-00000-bdf4dd14-b215-4fa2-8228-e9732fa922bc-c000.snappy.parquet.crc (stored 0%)\n",
            "  adding: content/char_label_model.h5/stages/3_StringIndexer_e712edcfc1d4/data/_SUCCESS (stored 0%)\n",
            "  adding: content/char_label_model.h5/stages/3_StringIndexer_e712edcfc1d4/data/._SUCCESS.crc (stored 0%)\n",
            "  adding: content/char_label_model.h5/stages/3_StringIndexer_e712edcfc1d4/data/part-00000-bdf4dd14-b215-4fa2-8228-e9732fa922bc-c000.snappy.parquet (deflated 35%)\n",
            "  adding: content/char_label_model.h5/stages/3_StringIndexer_e712edcfc1d4/metadata/ (stored 0%)\n",
            "  adding: content/char_label_model.h5/stages/3_StringIndexer_e712edcfc1d4/metadata/_SUCCESS (stored 0%)\n",
            "  adding: content/char_label_model.h5/stages/3_StringIndexer_e712edcfc1d4/metadata/.part-00000.crc (stored 0%)\n",
            "  adding: content/char_label_model.h5/stages/3_StringIndexer_e712edcfc1d4/metadata/part-00000 (deflated 41%)\n",
            "  adding: content/char_label_model.h5/stages/3_StringIndexer_e712edcfc1d4/metadata/._SUCCESS.crc (stored 0%)\n",
            "  adding: content/char_label_model.h5/stages/1_StringIndexer_9fbaf680d38a/ (stored 0%)\n",
            "  adding: content/char_label_model.h5/stages/1_StringIndexer_9fbaf680d38a/data/ (stored 0%)\n",
            "  adding: content/char_label_model.h5/stages/1_StringIndexer_9fbaf680d38a/data/part-00000-ccdb332c-e798-4970-9624-787311ff1818-c000.snappy.parquet (deflated 36%)\n",
            "  adding: content/char_label_model.h5/stages/1_StringIndexer_9fbaf680d38a/data/_SUCCESS (stored 0%)\n",
            "  adding: content/char_label_model.h5/stages/1_StringIndexer_9fbaf680d38a/data/._SUCCESS.crc (stored 0%)\n",
            "  adding: content/char_label_model.h5/stages/1_StringIndexer_9fbaf680d38a/data/.part-00000-ccdb332c-e798-4970-9624-787311ff1818-c000.snappy.parquet.crc (stored 0%)\n",
            "  adding: content/char_label_model.h5/stages/1_StringIndexer_9fbaf680d38a/metadata/ (stored 0%)\n",
            "  adding: content/char_label_model.h5/stages/1_StringIndexer_9fbaf680d38a/metadata/_SUCCESS (stored 0%)\n",
            "  adding: content/char_label_model.h5/stages/1_StringIndexer_9fbaf680d38a/metadata/.part-00000.crc (stored 0%)\n",
            "  adding: content/char_label_model.h5/stages/1_StringIndexer_9fbaf680d38a/metadata/part-00000 (deflated 40%)\n",
            "  adding: content/char_label_model.h5/stages/1_StringIndexer_9fbaf680d38a/metadata/._SUCCESS.crc (stored 0%)\n",
            "  adding: content/char_label_model.h5/stages/2_StringIndexer_5edc385ef791/ (stored 0%)\n",
            "  adding: content/char_label_model.h5/stages/2_StringIndexer_5edc385ef791/data/ (stored 0%)\n",
            "  adding: content/char_label_model.h5/stages/2_StringIndexer_5edc385ef791/data/_SUCCESS (stored 0%)\n",
            "  adding: content/char_label_model.h5/stages/2_StringIndexer_5edc385ef791/data/._SUCCESS.crc (stored 0%)\n",
            "  adding: content/char_label_model.h5/stages/2_StringIndexer_5edc385ef791/data/.part-00000-9a5896f6-3a27-44a1-8bd0-111468af14e9-c000.snappy.parquet.crc (stored 0%)\n",
            "  adding: content/char_label_model.h5/stages/2_StringIndexer_5edc385ef791/data/part-00000-9a5896f6-3a27-44a1-8bd0-111468af14e9-c000.snappy.parquet (deflated 36%)\n",
            "  adding: content/char_label_model.h5/stages/2_StringIndexer_5edc385ef791/metadata/ (stored 0%)\n",
            "  adding: content/char_label_model.h5/stages/2_StringIndexer_5edc385ef791/metadata/_SUCCESS (stored 0%)\n",
            "  adding: content/char_label_model.h5/stages/2_StringIndexer_5edc385ef791/metadata/.part-00000.crc (stored 0%)\n",
            "  adding: content/char_label_model.h5/stages/2_StringIndexer_5edc385ef791/metadata/part-00000 (deflated 40%)\n",
            "  adding: content/char_label_model.h5/stages/2_StringIndexer_5edc385ef791/metadata/._SUCCESS.crc (stored 0%)\n",
            "  adding: content/char_label_model.h5/stages/5_StringIndexer_1fb5040ccb20/ (stored 0%)\n",
            "  adding: content/char_label_model.h5/stages/5_StringIndexer_1fb5040ccb20/data/ (stored 0%)\n",
            "  adding: content/char_label_model.h5/stages/5_StringIndexer_1fb5040ccb20/data/_SUCCESS (stored 0%)\n",
            "  adding: content/char_label_model.h5/stages/5_StringIndexer_1fb5040ccb20/data/._SUCCESS.crc (stored 0%)\n",
            "  adding: content/char_label_model.h5/stages/5_StringIndexer_1fb5040ccb20/data/.part-00000-a3d64617-a42b-4eb8-8dee-e254ff05d2ad-c000.snappy.parquet.crc (stored 0%)\n",
            "  adding: content/char_label_model.h5/stages/5_StringIndexer_1fb5040ccb20/data/part-00000-a3d64617-a42b-4eb8-8dee-e254ff05d2ad-c000.snappy.parquet (deflated 35%)\n",
            "  adding: content/char_label_model.h5/stages/5_StringIndexer_1fb5040ccb20/metadata/ (stored 0%)\n",
            "  adding: content/char_label_model.h5/stages/5_StringIndexer_1fb5040ccb20/metadata/_SUCCESS (stored 0%)\n",
            "  adding: content/char_label_model.h5/stages/5_StringIndexer_1fb5040ccb20/metadata/.part-00000.crc (stored 0%)\n",
            "  adding: content/char_label_model.h5/stages/5_StringIndexer_1fb5040ccb20/metadata/part-00000 (deflated 38%)\n",
            "  adding: content/char_label_model.h5/stages/5_StringIndexer_1fb5040ccb20/metadata/._SUCCESS.crc (stored 0%)\n",
            "  adding: content/char_label_model.h5/stages/0_StringIndexer_dc897a05fbc0/ (stored 0%)\n",
            "  adding: content/char_label_model.h5/stages/0_StringIndexer_dc897a05fbc0/data/ (stored 0%)\n",
            "  adding: content/char_label_model.h5/stages/0_StringIndexer_dc897a05fbc0/data/_SUCCESS (stored 0%)\n",
            "  adding: content/char_label_model.h5/stages/0_StringIndexer_dc897a05fbc0/data/._SUCCESS.crc (stored 0%)\n",
            "  adding: content/char_label_model.h5/stages/0_StringIndexer_dc897a05fbc0/data/part-00000-e60418ba-48cd-4b5e-b607-9700d739e82a-c000.snappy.parquet (deflated 36%)\n",
            "  adding: content/char_label_model.h5/stages/0_StringIndexer_dc897a05fbc0/data/.part-00000-e60418ba-48cd-4b5e-b607-9700d739e82a-c000.snappy.parquet.crc (stored 0%)\n",
            "  adding: content/char_label_model.h5/stages/0_StringIndexer_dc897a05fbc0/metadata/ (stored 0%)\n",
            "  adding: content/char_label_model.h5/stages/0_StringIndexer_dc897a05fbc0/metadata/_SUCCESS (stored 0%)\n",
            "  adding: content/char_label_model.h5/stages/0_StringIndexer_dc897a05fbc0/metadata/.part-00000.crc (stored 0%)\n",
            "  adding: content/char_label_model.h5/stages/0_StringIndexer_dc897a05fbc0/metadata/part-00000 (deflated 39%)\n",
            "  adding: content/char_label_model.h5/stages/0_StringIndexer_dc897a05fbc0/metadata/._SUCCESS.crc (stored 0%)\n",
            "  adding: content/char_label_model.h5/metadata/ (stored 0%)\n",
            "  adding: content/char_label_model.h5/metadata/_SUCCESS (stored 0%)\n",
            "  adding: content/char_label_model.h5/metadata/.part-00000.crc (stored 0%)\n",
            "  adding: content/char_label_model.h5/metadata/part-00000 (deflated 45%)\n",
            "  adding: content/char_label_model.h5/metadata/._SUCCESS.crc (stored 0%)\n"
          ]
        }
      ]
    },
    {
      "cell_type": "code",
      "source": [
        "!zip -r /content/clfmodel.zip /content/clf_model.h5"
      ],
      "metadata": {
        "colab": {
          "base_uri": "https://localhost:8080/"
        },
        "id": "-VFm_nHjG6au",
        "outputId": "ddbf2e60-6819-422d-f705-b17cfd02d538"
      },
      "execution_count": null,
      "outputs": [
        {
          "output_type": "stream",
          "name": "stdout",
          "text": [
            "  adding: content/clf_model.h5/ (stored 0%)\n",
            "  adding: content/clf_model.h5/data/ (stored 0%)\n",
            "  adding: content/clf_model.h5/data/_SUCCESS (stored 0%)\n",
            "  adding: content/clf_model.h5/data/._SUCCESS.crc (stored 0%)\n",
            "  adding: content/clf_model.h5/data/.part-00000-35561048-4f4f-4cdb-b5ba-0829f1dd3534-c000.snappy.parquet.crc (stored 0%)\n",
            "  adding: content/clf_model.h5/data/part-00000-35561048-4f4f-4cdb-b5ba-0829f1dd3534-c000.snappy.parquet (deflated 20%)\n",
            "  adding: content/clf_model.h5/treesMetadata/ (stored 0%)\n",
            "  adding: content/clf_model.h5/treesMetadata/_SUCCESS (stored 0%)\n",
            "  adding: content/clf_model.h5/treesMetadata/._SUCCESS.crc (stored 0%)\n",
            "  adding: content/clf_model.h5/treesMetadata/part-00000-381d0e88-78e1-45be-9d36-5a470b6a190f-c000.snappy.parquet (deflated 39%)\n",
            "  adding: content/clf_model.h5/treesMetadata/.part-00000-381d0e88-78e1-45be-9d36-5a470b6a190f-c000.snappy.parquet.crc (stored 0%)\n",
            "  adding: content/clf_model.h5/metadata/ (stored 0%)\n",
            "  adding: content/clf_model.h5/metadata/_SUCCESS (stored 0%)\n",
            "  adding: content/clf_model.h5/metadata/.part-00000.crc (stored 0%)\n",
            "  adding: content/clf_model.h5/metadata/part-00000 (deflated 44%)\n",
            "  adding: content/clf_model.h5/metadata/._SUCCESS.crc (stored 0%)\n"
          ]
        }
      ]
    }
  ]
}